{
 "cells": [
  {
   "cell_type": "code",
   "execution_count": 1,
   "metadata": {
    "collapsed": true
   },
   "outputs": [],
   "source": [
    "using JuMP, Gurobi"
   ]
  },
  {
   "cell_type": "markdown",
   "metadata": {},
   "source": [
    "# 1. Voting\n",
    "Governor Blue of the state of Berry is attempting to get the state legislator to gerrymander Berry’s congressional districts. The state consists of ten cities, and the numbers of registered Republicans and Democrats (in thousands) in each city are shown below.\n",
    "\n",
    "|City |Republicans | Democrats\n",
    "|--------------|\n",
    "|1  |80 |34\n",
    "|2  |60 |44\n",
    "|3  |40 |44\n",
    "|4  |20 |24\n",
    "|5  |40 |114\n",
    "|6  |40 |64\n",
    "|7  |70 |14\n",
    "|8  |50 |44\n",
    "|9  |70 |54\n",
    "|10 |70 |64\n",
    "\n",
    "Berry has five congressional representatives. To form the five congressional districts, cities must be grouped together according to the following restrictions:\n",
    "1. Districts cannot subdivide cities; all voters in a city must be in the same district.\n",
    "2. Each district must contain between 150,000 and 250,000 voters (there are no independent voters).\n",
    "\n",
    "Governor Blue is a Democrat. Assume 100% voter turnout and that each voter always votes according to their registered party. Formulate and solve an optimization problem to help Governor Blue maximize the number of congressional districts that have a Democratic majority."
   ]
  },
  {
   "cell_type": "code",
   "execution_count": 2,
   "metadata": {
    "collapsed": false
   },
   "outputs": [
    {
     "data": {
      "text/plain": [
       ":Optimal"
      ]
     },
     "execution_count": 2,
     "metadata": {},
     "output_type": "execute_result"
    }
   ],
   "source": [
    "# I haven't separately formulated the problem but have written comments here in the Julia code itself\n",
    "# for each step\n",
    "\n",
    "# Given number of registered republicans and democratics (in thousands) in 10 cities\n",
    "republicans = [80 60 40 20 40 40 70 50 70 70]\n",
    "democrats = [34 44 44 24 114 64 14 44 54 64]\n",
    "\n",
    "m1 = Model(solver=GurobiSolver(OutputFlag=0))\n",
    "\n",
    "# Binary variable to keep track of city assigned to a particular district\n",
    "@variable(m1, z1[1:10,1:5], Bin)  \n",
    "\n",
    "# to keep track if district 1-5 was won by democrats\n",
    "@variable(m1, z2[1:5], Bin) \n",
    "\n",
    "# Each district must contain between 150,000 and 250,000 voters (there are no independent voters).\n",
    "for j in 1:5\n",
    "    @constraint(m1, sum((republicans[i] + democrats[i])*z1[i,j] for i in 1:10) >= 150)\n",
    "end\n",
    "\n",
    "# Max constraint\n",
    "for j in 1:5\n",
    "    @constraint(m1, sum((republicans[i] + democrats[i])*z1[i,j] for i in 1:10) <= 250)\n",
    "end\n",
    "\n",
    "# Districts cannot subdivide cities; all voters in a city must be in the same district.\n",
    "for i in 1:10\n",
    "    @constraint(m1, sum(z1[i, j] for j in 1:5) == 1)\n",
    "end\n",
    "\n",
    "M = 10000\n",
    "# republican win scenario -- the idea was to see the constraint for logic statement from the class slide\n",
    "for j in 1:5\n",
    "    @constraint(m1, sum((republicans[i] - democrats[i]) * z1[i, j] for i in 1:10) <= M*(1 - z2[j]))\n",
    "end\n",
    "\n",
    "# Governor Blue maximize the number of congressional districts that have a Democratic majority.\n",
    "@objective(m1, Max, sum(z2[j] for j in 1:5))\n",
    "                                                                        \n",
    "solve(m1)"
   ]
  },
  {
   "cell_type": "code",
   "execution_count": 3,
   "metadata": {
    "collapsed": false
   },
   "outputs": [
    {
     "name": "stdout",
     "output_type": "stream",
     "text": [
      "District that have democratic majority are 2, 3 and 4\n"
     ]
    },
    {
     "data": {
      "text/plain": [
       "5-element Array{Float64,1}:\n",
       " 0.0\n",
       " 1.0\n",
       " 1.0\n",
       " 1.0\n",
       " 0.0"
      ]
     },
     "execution_count": 3,
     "metadata": {},
     "output_type": "execute_result"
    }
   ],
   "source": [
    "println(\"District that have democratic majority are 2, 3 and 4\")\n",
    "getvalue(z2)"
   ]
  },
  {
   "cell_type": "code",
   "execution_count": 4,
   "metadata": {
    "collapsed": false
   },
   "outputs": [
    {
     "data": {
      "text/plain": [
       "10×5 Array{Float64,2}:\n",
       " 0.0  0.0  0.0  0.0  1.0\n",
       " 1.0  0.0  0.0  0.0  0.0\n",
       " 0.0  1.0  0.0  0.0  0.0\n",
       " 0.0  1.0  0.0  0.0  0.0\n",
       " 0.0  0.0  0.0  1.0  0.0\n",
       " 0.0  0.0  1.0  0.0  0.0\n",
       " 0.0  0.0  0.0  0.0  1.0\n",
       " 0.0  1.0  0.0  0.0  0.0\n",
       " 1.0  0.0  0.0  0.0  0.0\n",
       " 0.0  0.0  1.0  0.0  0.0"
      ]
     },
     "execution_count": 4,
     "metadata": {},
     "output_type": "execute_result"
    }
   ],
   "source": [
    "z1opt = getvalue(z1)"
   ]
  },
  {
   "cell_type": "markdown",
   "metadata": {},
   "source": [
    "District 1 --> 2, 9\n",
    "<br>\n",
    "District 2 --> 3, 4, 8\n",
    "<br>\n",
    "District 3 --> 6, 10\n",
    "<br>\n",
    "District 4 --> 5\n",
    "<br>\n",
    "District 5 --> 1, 7"
   ]
  },
  {
   "cell_type": "markdown",
   "metadata": {},
   "source": [
    "# 2. Paint production \n",
    "As part of its weekly production, a paint company produces five batches of paints, always the same, for some big clients who have a stable demand. Every paint batch is produced in a single production process, all in the same blender that needs to be cleaned between each batch. The durations of blending paint batches 1 to 5 are 40, 35, 45, 32 and 50 minutes respectively. The cleaning times depend of the colors and the paint types. For example, a long cleaning period is required if an oil-based paint is produced after a water-based paint, or to produce white paint after a dark color. The times are given in minutes in the following matrix A where Aij denotes the cleaning time after batch i if it is followed by batch j."
   ]
  },
  {
   "cell_type": "code",
   "execution_count": 5,
   "metadata": {
    "collapsed": false
   },
   "outputs": [
    {
     "name": "stdout",
     "output_type": "stream",
     "text": [
      "Total cleaning and duration time: 243.0\n",
      "Time spent in cleaning: 41.0\n"
     ]
    }
   ],
   "source": [
    "# Number of batches in the paint production problem\n",
    "num_of_batches = 5\n",
    "\n",
    "# The durations of blending paint batches 1 to 5 are 40, 35, 45, 32 and 50 minutes respectively.\n",
    "duration = [40 35 45 32 50]\n",
    "\n",
    "# The times are given in minutes in the following matrix A where Aij denotes the cleaning time \n",
    "# after batch i if it is followed by batch j.\n",
    "A = [\n",
    "0 11 7 13 11\n",
    "5 0 13 15 15\n",
    "13 15 0 23 11\n",
    "9 13 5 0 3\n",
    "3 7 7 7 0\n",
    "]\n",
    "\n",
    "m2 = Model(solver=GurobiSolver(OutputFlag=0))\n",
    "\n",
    "# Binary variable to store which batch follows which batch - this will be set to 1 if batch i is followed by batch j\n",
    "@variable(m2, z[1:5,1:5], Bin) \n",
    "\n",
    "# Variable to make sure there is no subcycle\n",
    "@variable(m2, y[1:5])\n",
    "\n",
    "# To make sure we have one follower and one successor for each batch\n",
    "for j in 1:5\n",
    "    @constraint(m2, sum(z[i, j] for i in 1:5) == 1)\n",
    "end\n",
    "            \n",
    "for i in 1:5\n",
    "    @constraint(m2, sum(z[i, j] for j in 1:5) == 1)\n",
    "end\n",
    "\n",
    "# Assuming that batch don't appear twice in a processing cycle. Hence when i == j we mark them as 0\n",
    "for i in 1:5\n",
    "    for j in 1:5\n",
    "        if i == j\n",
    "            @constraint(m2, z[i, j] == 0)\n",
    "        end\n",
    "    end\n",
    "end\n",
    "\n",
    "# constraints to not include sub-batch cycles in processing of batch\n",
    "for i in 1:5\n",
    "    for j in 2:5\n",
    "        if i != j\n",
    "            @constraint(m2, y[j] >= ((y[i] + 1) - (num_of_batches * (1 - z[i, j]))))\n",
    "        end\n",
    "    end\n",
    "end\n",
    "\n",
    "# Objective is to minimize the batch cycle time - which is nothing but the sum of all blending time + cleaning \n",
    "# time for the batch if selected \n",
    "\n",
    "@objective(m2, Min, sum((duration[i] + A[i, j]) * z[i, j] for i in 1:5, j in 1:5))\n",
    "solve(m2)\n",
    "\n",
    "println(\"Total cleaning and duration time: \", getobjectivevalue(m2))\n",
    "\n",
    "total_blending_time = 0\n",
    "for i in 1:5\n",
    "    total_blending_time += duration[i]\n",
    "end\n",
    "println(\"Time spent in cleaning: \", getobjectivevalue(m2) - total_blending_time)"
   ]
  },
  {
   "cell_type": "code",
   "execution_count": 6,
   "metadata": {
    "collapsed": false
   },
   "outputs": [
    {
     "name": "stdout",
     "output_type": "stream",
     "text": [
      "0 0 0 1 0 \n",
      "1 0 0 0 0 \n",
      "0 0 0 0 1 \n",
      "0 0 1 0 0 \n",
      "0 1 0 0 0 \n"
     ]
    }
   ],
   "source": [
    "for i in 1:5\n",
    "    for j in 1:5\n",
    "        print(Int64(getvalue(z[i,j])), \" \")\n",
    "    end\n",
    "    print(\"\\n\")\n",
    "end"
   ]
  },
  {
   "cell_type": "markdown",
   "metadata": {},
   "source": [
    "<b>Solution for other part</b>\n",
    "What is the corresponding order of paint batches? The order will be applied every week, so the cleaning time between the last batch of one week and the first of the following week needs to be accounted for in the total duration of cleaning.\n",
    "<br>\n",
    "Using the above matrix to identify the order of paint batches -- and let's assume that we start the paint production cycle from batch 1. \n",
    "<br>\n",
    "<br>\n",
    "<b>1 --> 4 --> 3 --> 5 --> 2 --> 1</b>\n",
    "\n",
    "Basically, if we observe Paint 1 has 1 set to 4th (1, 4). Going to 4 it has 3 set to 1 (4, 3) and so (3, 5), (5, 2) and back to 1. \n",
    "Also, intuitively, between batches the cleaning time b/w the last batch of one week and the first of the following week should be min cleaning time among all 5 batches. "
   ]
  },
  {
   "cell_type": "markdown",
   "metadata": {},
   "source": [
    "# 3. The Queens problem.\n",
    "You are given a standard 8×8 chess board. The following problems involve placing queens on the board such that certain constraints are satisfied. For each of the following problems, model the optimization task as an integer program, solve it, and show what an optimal placement of queens on the board looks like."
   ]
  },
  {
   "cell_type": "markdown",
   "metadata": {},
   "source": [
    "<b><u>Solution 3a</u></b> Find a way to place 8 queens on the board so that no two queens threaten each other. We say that two queens threaten each other if they occupy the same row, column, or diagonal. Show what this placement looks like"
   ]
  },
  {
   "cell_type": "code",
   "execution_count": 7,
   "metadata": {
    "collapsed": false
   },
   "outputs": [
    {
     "data": {
      "text/plain": [
       "8.0"
      ]
     },
     "execution_count": 7,
     "metadata": {},
     "output_type": "execute_result"
    }
   ],
   "source": [
    "m3a = Model(solver=GurobiSolver(OutputFlag=0))\n",
    "\n",
    "@variable(m3a, z[1:8, 1:8], Bin)\n",
    "\n",
    "# Horizontal sum for each row should be < equal to 1\n",
    "for i in 1:8\n",
    "    @constraint(m3a, sum(z[i, j] for j in 1:8) <= 1)\n",
    "end\n",
    "            \n",
    "# Vertical sum for each row should be < equal to 1\n",
    "for j in 1:8\n",
    "    @constraint(m3a, sum(z[i, j] for i in 1:8) <= 1)\n",
    "end\n",
    "\n",
    "# Looking for each diagonals\n",
    "diag2 = [-7, -6, -5, -4, -3, -2, -1, 0, 1, 2, 3, 4, 5, 6, 7]\n",
    "diag1 = [2, 3, 4, 5, 6, 7, 8, 9, 10, 11, 12, 13, 14, 15, 16]\n",
    "\n",
    "for k in diag1\n",
    "    temp = 0\n",
    "    for i in 1:8\n",
    "        for j in 1:8\n",
    "            if i + j == k\n",
    "                temp += z[i, j]\n",
    "            end\n",
    "        end                     \n",
    "    end\n",
    "    @constraint(m3a, temp <= 1)\n",
    "end \n",
    "\n",
    "for k in diag2\n",
    "    temp = 0\n",
    "    for i in 1:8\n",
    "        for j in 1:8\n",
    "            if i - j == k\n",
    "                temp += z[i, j]\n",
    "            end\n",
    "        end                     \n",
    "    end\n",
    "    @constraint(m3a, temp <= 1)\n",
    "end\n",
    "\n",
    "@objective(m3a, Max, sum(z[i, j] for i in 1:8, j in 1:8))\n",
    "\n",
    "solve(m3a)\n",
    "getobjectivevalue(m3a)"
   ]
  },
  {
   "cell_type": "code",
   "execution_count": 8,
   "metadata": {
    "collapsed": false
   },
   "outputs": [
    {
     "name": "stdout",
     "output_type": "stream",
     "text": [
      "\n",
      "+---+---+---+---+---+---+---+---+\n",
      "|   |   |   |   |   |   |   | X |\n",
      "+---+---+---+---+---+---+---+---+\n",
      "|   |   | X |   |   |   |   |   |\n",
      "+---+---+---+---+---+---+---+---+\n",
      "| X |   |   |   |   |   |   |   |\n",
      "+---+---+---+---+---+---+---+---+\n",
      "|   |   |   |   |   | X |   |   |\n",
      "+---+---+---+---+---+---+---+---+\n",
      "|   | X |   |   |   |   |   |   |\n",
      "+---+---+---+---+---+---+---+---+\n",
      "|   |   |   |   | X |   |   |   |\n",
      "+---+---+---+---+---+---+---+---+\n",
      "|   |   |   |   |   |   | X |   |\n",
      "+---+---+---+---+---+---+---+---+\n",
      "|   |   |   | X |   |   |   |   |\n",
      "+---+---+---+---+---+---+---+---+\n"
     ]
    }
   ],
   "source": [
    "println(\"\\n+---+---+---+---+---+---+---+---+\")\n",
    "for i in 1:8\n",
    "    for j in 1:8\n",
    "        if Int64(getvalue(z[i,j])) == 1\n",
    "            print(\"| X \")\n",
    "        else\n",
    "            print(\"|   \")\n",
    "        end\n",
    "    end\n",
    "    println(\"|\\n+---+---+---+---+---+---+---+---+\")\n",
    "end"
   ]
  },
  {
   "cell_type": "markdown",
   "metadata": {},
   "source": [
    "<b><u>Solution 3b</u></b> Repeat part (a) but this time find a placement of the 8 queens that has point symmetry. In other words, find a placement that looks the same if you rotate the board 180◦."
   ]
  },
  {
   "cell_type": "code",
   "execution_count": 9,
   "metadata": {
    "collapsed": false
   },
   "outputs": [
    {
     "data": {
      "text/plain": [
       ":Optimal"
      ]
     },
     "execution_count": 9,
     "metadata": {},
     "output_type": "execute_result"
    }
   ],
   "source": [
    "# The problem is similar to the 3a problem but with an additional constraint for symmetry mentioned below in the code\n",
    "\n",
    "m3b = Model(solver=GurobiSolver(OutputFlag=0))\n",
    "\n",
    "@variable(m3b, z[1:8, 1:8], Bin)\n",
    "\n",
    "# Horizontal sum for each row should be equal to 1\n",
    "for i in 1:8\n",
    "    @constraint(m3b, sum(z[i, j] for j in 1:8) == 1)\n",
    "end\n",
    "            \n",
    "# Vertical sum for each row should be equal to 1\n",
    "for j in 1:8\n",
    "    @constraint(m3b, sum(z[i, j] for i in 1:8) == 1)\n",
    "end\n",
    "                        \n",
    "diag2 = [-7, -6, -5, -4, -3, -2, -1, 0, 1, 2, 3, 4, 5, 6, 7]\n",
    "diag1 = [2, 3, 4, 5, 6, 7, 8, 9, 10, 11, 12, 13, 14, 15, 16]\n",
    "\n",
    "for k in diag1\n",
    "    temp = 0\n",
    "    for i in 1:8\n",
    "        for j in 1:8\n",
    "            if i + j == k\n",
    "                temp += z[i, j]\n",
    "            end\n",
    "        end                     \n",
    "    end\n",
    "    @constraint(m3b, temp <= 1)\n",
    "end \n",
    "\n",
    "for k in diag2\n",
    "    temp = 0\n",
    "    for i in 1:8\n",
    "        for j in 1:8\n",
    "            if i - j == k\n",
    "                temp += z[i, j]\n",
    "            end\n",
    "        end                     \n",
    "    end\n",
    "    @constraint(m3b, temp <= 1)\n",
    "end\n",
    "\n",
    "# Constraint for 180 degrees -- this is the additional constraint we will need for the problem to place queen\n",
    "# in symmetric fashion\n",
    "for i in 1:8\n",
    "    for j in 1:8\n",
    "        if j >= i\n",
    "            @constraint(m3b, z[i, j] == z[8-i+1, 8-j+1])\n",
    "        end\n",
    "    end\n",
    "end\n",
    "\n",
    "solve(m3b)"
   ]
  },
  {
   "cell_type": "code",
   "execution_count": 10,
   "metadata": {
    "collapsed": false
   },
   "outputs": [
    {
     "name": "stdout",
     "output_type": "stream",
     "text": [
      "\n",
      "+---+---+---+---+---+---+---+---+\n",
      "|   |   |   |   | X |   |   |   |\n",
      "+---+---+---+---+---+---+---+---+\n",
      "|   |   | X |   |   |   |   |   |\n",
      "+---+---+---+---+---+---+---+---+\n",
      "| X |   |   |   |   |   |   |   |\n",
      "+---+---+---+---+---+---+---+---+\n",
      "|   |   |   |   |   |   | X |   |\n",
      "+---+---+---+---+---+---+---+---+\n",
      "|   | X |   |   |   |   |   |   |\n",
      "+---+---+---+---+---+---+---+---+\n",
      "|   |   |   |   |   |   |   | X |\n",
      "+---+---+---+---+---+---+---+---+\n",
      "|   |   |   |   |   | X |   |   |\n",
      "+---+---+---+---+---+---+---+---+\n",
      "|   |   |   | X |   |   |   |   |\n",
      "+---+---+---+---+---+---+---+---+\n"
     ]
    }
   ],
   "source": [
    "println(\"\\n+---+---+---+---+---+---+---+---+\")\n",
    "for i in 1:8\n",
    "    for j in 1:8\n",
    "        if Int64(getvalue(z[i,j])) == 1\n",
    "            print(\"| X \")\n",
    "        else\n",
    "            print(\"|   \")\n",
    "        end\n",
    "    end\n",
    "    println(\"|\\n+---+---+---+---+---+---+---+---+\")\n",
    "end"
   ]
  },
  {
   "cell_type": "markdown",
   "metadata": {},
   "source": [
    "<b><u>Solution 3c</u></b> What is the smallest number of queens that we can place on the board so that each empty cell is threatened by at least one queen? Show a possible optimal placement."
   ]
  },
  {
   "cell_type": "code",
   "execution_count": 11,
   "metadata": {
    "collapsed": false
   },
   "outputs": [
    {
     "data": {
      "text/plain": [
       ":Optimal"
      ]
     },
     "execution_count": 11,
     "metadata": {},
     "output_type": "execute_result"
    }
   ],
   "source": [
    "# For this problem we will consider each cell and for each cell the sum of horizontal, vertical and diagonals should\n",
    "# be greater than equal to 1. So basically, we will iterate over each row and column (each cell) and will sum up the\n",
    "# binary variables across that cell's horizontal, vertical and diagonals\n",
    "\n",
    "m3c = Model(solver=GurobiSolver(OutputFlag=0))\n",
    "\n",
    "@variable(m3c, z[1:8, 1:8], Bin)\n",
    "\n",
    "# for each row in the board 1 - 8\n",
    "for i in 1:8\n",
    "    # for each column in the board 1 - 8\n",
    "    for j in 1:8\n",
    "        # for cell [i, j] we will calculate the horizontal row sum \n",
    "        @expression(m3c, h, sum(z[i, k] for k in 1:8))\n",
    "        \n",
    "        # for cell [i, j] we will calculate the vertical row sum \n",
    "        @expression(m3c, v, sum(z[k, j] for k in 1:8))\n",
    "\n",
    "        # Lower right diagonal sum for the the cell [i, j]\n",
    "        @expression(m3c, lr, sum(z[i+k, j+k] for k in 0:8-max(i, j)))\n",
    "\n",
    "        # Upper left diagonal for the cell [i, j]\n",
    "        @expression(m3c, ul, sum(z[i-k, j-k] for k in 0:min(i, j)-1))\n",
    "\n",
    "        # Left Lower diagonal sum for the cell [i, j]\n",
    "        @expression(m3c, ll, sum(z[i+k, j-k] for k in 0:min(8-i+1, j)-1))\n",
    "\n",
    "        # Right Upper diagonal sum for the cell [i, j]\n",
    "        @expression(m3c, ru, sum(z[i-k, j+k] for k in 0:min(i, 8-j+1)-1))\n",
    "\n",
    "        # Sum of all the binary variables for cell [i, j] in all directions should be >= 1\n",
    "        @constraint(m3c, h + v + lr + ul + ll + ru >= 1)\n",
    "    end\n",
    "end\n",
    "                                                                        \n",
    "# Objective is to minimize the sum of binary variables on the 8 x 8 board\n",
    "@objective(m3c, Min, sum(z[i, j] for i in 1:8, j in 1:8))\n",
    "solve(m3c)"
   ]
  },
  {
   "cell_type": "code",
   "execution_count": 12,
   "metadata": {
    "collapsed": false
   },
   "outputs": [
    {
     "name": "stdout",
     "output_type": "stream",
     "text": [
      "Placement of with smallest number of queens that we can place on the board so that each empty cell is\n",
      "threatened by at least one queen\n",
      "\n",
      "+---+---+---+---+---+---+---+---+\n",
      "|   |   |   |   |   | X |   |   |\n",
      "+---+---+---+---+---+---+---+---+\n",
      "|   |   |   |   |   |   |   |   |\n",
      "+---+---+---+---+---+---+---+---+\n",
      "| X |   |   |   |   |   |   |   |\n",
      "+---+---+---+---+---+---+---+---+\n",
      "|   |   |   | X |   |   |   |   |\n",
      "+---+---+---+---+---+---+---+---+\n",
      "|   |   |   |   |   |   |   |   |\n",
      "+---+---+---+---+---+---+---+---+\n",
      "|   |   |   |   |   |   |   | X |\n",
      "+---+---+---+---+---+---+---+---+\n",
      "|   |   |   |   |   |   |   |   |\n",
      "+---+---+---+---+---+---+---+---+\n",
      "|   |   | X |   |   |   |   |   |\n",
      "+---+---+---+---+---+---+---+---+\n"
     ]
    }
   ],
   "source": [
    "println(\"Placement of with smallest number of queens that we can place on the board so that each empty cell is\n",
    "threatened by at least one queen\")\n",
    "\n",
    "println(\"\\n+---+---+---+---+---+---+---+---+\")\n",
    "for i in 1:8\n",
    "    for j in 1:8\n",
    "        if Int64(getvalue(z[i,j])) == 1\n",
    "            print(\"| X \")\n",
    "        else\n",
    "            print(\"|   \")\n",
    "        end\n",
    "    end\n",
    "    println(\"|\\n+---+---+---+---+---+---+---+---+\")\n",
    "end"
   ]
  },
  {
   "cell_type": "code",
   "execution_count": 13,
   "metadata": {
    "collapsed": false
   },
   "outputs": [
    {
     "data": {
      "text/plain": [
       "5.0"
      ]
     },
     "execution_count": 13,
     "metadata": {},
     "output_type": "execute_result"
    }
   ],
   "source": [
    "getobjectivevalue(m3c)"
   ]
  },
  {
   "cell_type": "markdown",
   "metadata": {},
   "source": [
    "<b><u>Solution 3d</u></b> Repeat part (c) but this time find a placement of the queens that also has point symmetry. Does the minimum number of queens required change? Show a possible optimal placement."
   ]
  },
  {
   "cell_type": "code",
   "execution_count": 14,
   "metadata": {
    "collapsed": false
   },
   "outputs": [
    {
     "data": {
      "text/plain": [
       ":Optimal"
      ]
     },
     "execution_count": 14,
     "metadata": {},
     "output_type": "execute_result"
    }
   ],
   "source": [
    "# For this problem we will consider each cell and for each cell the sum of horizontal, vertical and diagonals should\n",
    "# be greater than equal to 1. So basically, we will iterate over each row and column (each cell) and will sum up the\n",
    "# binary variables across that cell's horizontal, vertical and diagonals\n",
    "\n",
    "# +\n",
    "\n",
    "# Symmetry constraint\n",
    "\n",
    "m3d = Model(solver=GurobiSolver(OutputFlag=0))\n",
    "\n",
    "# Binary variable for each cell of the board\n",
    "@variable(m3d, z[1:8, 1:8], Bin)\n",
    "\n",
    "# for each row in the board 1 - 8\n",
    "for i in 1:8\n",
    "    # for each column in the board 1 - 8\n",
    "    for j in 1:8\n",
    "        # for cell [i, j] we will calculate the horizontal row sum \n",
    "        @expression(m3d, h, sum(z[i, k] for k in 1:8))\n",
    "        # for cell [i, j] we will calculate the vertical row sum \n",
    "        @expression(m3d, v, sum(z[k, j] for k in 1:8))\n",
    "\n",
    "        # Lower right diagonal sum for the the cell [i, j]\n",
    "        @expression(m3d, lr, sum(z[i+k, j+k] for k in 0:8-max(i, j)))\n",
    "\n",
    "        # Upper left diagonal for the cell [i, j]\n",
    "        @expression(m3d, ul, sum(z[i-k, j-k] for k in 0:min(i, j)-1))\n",
    "\n",
    "        # Left Lower diagonal sum for the cell [i, j]\n",
    "        @expression(m3d, ll, sum(z[i+k, j-k] for k in 0:min(8-i+1, j)-1))\n",
    "\n",
    "        # Right Upper diagonal sum for the cell [i, j]\n",
    "        @expression(m3d, ru, sum(z[i-k, j+k] for k in 0:min(i, 8-j+1)-1))\n",
    "           \n",
    "        # Sum of all the binary variables for cell [i, j] in all directions should be >= 1\n",
    "        @constraint(m3d, h + v + lr + ul + ll + ru >= 1)\n",
    "    end\n",
    "end\n",
    "\n",
    "# Constraint for 180 degrees\n",
    "for i in 1:8\n",
    "    for j in 1:8\n",
    "        if j >= i\n",
    "            @constraint(m3d, z[i, j] == z[8-i+1, 8-j+1])\n",
    "        end\n",
    "    end\n",
    "end\n",
    "\n",
    "                                                                        \n",
    "@objective(m3d, Min, sum(z[i, j] for i in 1:8, j in 1:8))\n",
    "solve(m3d)"
   ]
  },
  {
   "cell_type": "code",
   "execution_count": 15,
   "metadata": {
    "collapsed": false
   },
   "outputs": [
    {
     "name": "stdout",
     "output_type": "stream",
     "text": [
      "Placement of with smallest number of queens that we can place on the board so that each empty cell is\n",
      "threatened by at least one queen\n",
      "\n",
      "+---+---+---+---+---+---+---+---+\n",
      "|   |   |   |   |   |   | X |   |\n",
      "+---+---+---+---+---+---+---+---+\n",
      "|   |   |   | X |   |   |   |   |\n",
      "+---+---+---+---+---+---+---+---+\n",
      "|   |   |   |   |   |   |   |   |\n",
      "+---+---+---+---+---+---+---+---+\n",
      "|   |   |   |   |   |   | X |   |\n",
      "+---+---+---+---+---+---+---+---+\n",
      "|   | X |   |   |   |   |   |   |\n",
      "+---+---+---+---+---+---+---+---+\n",
      "|   |   |   |   |   |   |   |   |\n",
      "+---+---+---+---+---+---+---+---+\n",
      "|   |   |   |   | X |   |   |   |\n",
      "+---+---+---+---+---+---+---+---+\n",
      "|   | X |   |   |   |   |   |   |\n",
      "+---+---+---+---+---+---+---+---+\n"
     ]
    }
   ],
   "source": [
    "println(\"Placement of with smallest number of queens that we can place on the board so that each empty cell is\n",
    "threatened by at least one queen\")\n",
    "println(\"\\n+---+---+---+---+---+---+---+---+\")\n",
    "for i in 1:8\n",
    "    for j in 1:8\n",
    "        if Int64(getvalue(z[i,j])) == 1\n",
    "            print(\"| X \")\n",
    "        else\n",
    "            print(\"|   \")\n",
    "        end\n",
    "    end\n",
    "    println(\"|\\n+---+---+---+---+---+---+---+---+\")\n",
    "end"
   ]
  },
  {
   "cell_type": "markdown",
   "metadata": {},
   "source": [
    "<b> The number of queens seems to be 6 here in the Solution of 3d. One more than 3c solution </b>"
   ]
  },
  {
   "cell_type": "code",
   "execution_count": null,
   "metadata": {
    "collapsed": true
   },
   "outputs": [],
   "source": []
  }
 ],
 "metadata": {
  "kernelspec": {
   "display_name": "Julia 0.5.0",
   "language": "julia",
   "name": "julia-0.5"
  },
  "language_info": {
   "file_extension": ".jl",
   "mimetype": "application/julia",
   "name": "julia",
   "version": "0.5.0"
  }
 },
 "nbformat": 4,
 "nbformat_minor": 2
}
