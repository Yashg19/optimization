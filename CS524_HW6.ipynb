{
 "cells": [
  {
   "cell_type": "code",
   "execution_count": 1,
   "metadata": {
    "collapsed": false
   },
   "outputs": [],
   "source": [
    "using Gurobi, JuMP, PyPlot"
   ]
  },
  {
   "cell_type": "markdown",
   "metadata": {},
   "source": [
    "# Solution 1:  The Huber loss. \n",
    "In statistics, we frequently encounter data sets containing outliers, which are bad data points arising from experimental error or abnormally high noise. Consider for example the following data set consisting of 15 pairs (x, y)."
   ]
  },
  {
   "cell_type": "markdown",
   "metadata": {},
   "source": [
    "<b><u>Solution 1a:</u></b> Compute the best linear fit to the data using an l2 cost (least squares). In other words, we are looking for the a and b that minimize the expression:\n",
    "\n",
    "\\begin{equation*}\n",
    "l_2 cost : \\sum_{i=1}^{15}  (y_i - ax_i - b)^2\n",
    "\\end{equation*}"
   ]
  },
  {
   "cell_type": "code",
   "execution_count": 2,
   "metadata": {
    "collapsed": false
   },
   "outputs": [
    {
     "data": {
      "image/png": "[encoded data removed]",
      "text/plain": [
       "PyPlot.Figure(PyObject <matplotlib.figure.Figure object at 0x32063ef50>)"
      ]
     },
     "metadata": {},
     "output_type": "display_data"
    },
    {
     "data": {
      "text/plain": [
       "15"
      ]
     },
     "execution_count": 2,
     "metadata": {},
     "output_type": "execute_result"
    }
   ],
   "source": [
    "# define (x,y) coordinates of the points\n",
    "x = [ 1, 2, 3, 4, 5, 6, 7, 8, 9, 10, 11, 12, 13, 14, 15 ]\n",
    "y = [ 6.31, 3.78, 24, 1.71, 2.99, 4.53, 2.11, 3.88, 4.67, 4.25, 2.06, 23, 1.58, 2.17, 0.02 ]\n",
    "\n",
    "using PyPlot\n",
    "figure(figsize=(12,4))\n",
    "plot(x,y,\"r.\", markersize=10)\n",
    "grid(\"on\")\n",
    "\n",
    "len_x = length(x)"
   ]
  },
  {
   "cell_type": "code",
   "execution_count": 3,
   "metadata": {
    "collapsed": false
   },
   "outputs": [
    {
     "name": "stdout",
     "output_type": "stream",
     "text": [
      "Optimal\n",
      "-0.29078571428551947\n",
      "8.130285714279665\n"
     ]
    }
   ],
   "source": [
    "m1a = Model(solver=GurobiSolver(OutputFlag=0))\n",
    "@variable(m1a, a)\n",
    "@variable(m1a, b)\n",
    "@objective(m1a, Min, sum( (y[i] - a*x[i] - b).^2 for i in 1:length(x) ))\n",
    "status = solve(m1a)\n",
    "val_a = getvalue(a)\n",
    "val_b = getvalue(b)\n",
    "println(status)\n",
    "println(val_a)\n",
    "println(val_b)"
   ]
  },
  {
   "cell_type": "code",
   "execution_count": 6,
   "metadata": {
    "collapsed": false
   },
   "outputs": [],
   "source": [
    "# Calculating values of y based on the values of a and b that we have learned from above and using the x coordinate \n",
    "# values\n",
    "y1 = [0.0, 0.0, 0.0, 0.0, 0.0, 0.0, 0.0, 0.0, 0.0, 0.0, 0.0, 0.0, 0.0, 0.0, 0.0]\n",
    "for i = 1:length(x)\n",
    "    y1[i] += (val_a * x[i]) + val_b\n",
    "end"
   ]
  },
  {
   "cell_type": "code",
   "execution_count": 7,
   "metadata": {
    "collapsed": false
   },
   "outputs": [
    {
     "name": "stdout",
     "output_type": "stream",
     "text": [
      "Optimal\n",
      "-0.23648422408233874\n",
      "4.9916033483557305\n"
     ]
    }
   ],
   "source": [
    "# Removing the outliers this time.\n",
    "x2 = [ 1, 2, 4, 5, 6, 7, 8, 9, 10, 11, 13, 14, 15 ]\n",
    "y2 = [ 6.31, 3.78, 1.71, 2.99, 4.53, 2.11, 3.88, 4.67, 4.25, 2.06, 1.58, 2.17, 0.02 ]\n",
    "\n",
    "m1a1 = Model(solver=GurobiSolver(OutputFlag=0))\n",
    "@variable(m1a1, a)\n",
    "@variable(m1a1, b)\n",
    "@objective(m1a1, Min, sum( (y2[i] - a*x2[i] - b).^2 for i in 1:length(x2) ))\n",
    "status = solve(m1a1)\n",
    "val_a1 = getvalue(a)\n",
    "val_b1 = getvalue(b)\n",
    "println(status)\n",
    "println(val_a1)\n",
    "println(val_b1)"
   ]
  },
  {
   "cell_type": "code",
   "execution_count": 8,
   "metadata": {
    "collapsed": false
   },
   "outputs": [],
   "source": [
    "# Getting the y values after removing the outlier and based on new values of a and b (without outliers)\n",
    "x2 = [ 1, 2, 4, 5, 6, 7, 8, 9, 10, 11, 13, 14, 15 ]\n",
    "y2 = [ 0.0, 0.0, 0.0, 0.0, 0.0, 0.0, 0.0, 0.0, 0.0, 0.0, 0.0, 0.0, 0.0 ]\n",
    "for i = 1:length(x2)\n",
    "    y2[i] += (val_a1 * x2[i]) + val_b1\n",
    "end"
   ]
  },
  {
   "cell_type": "code",
   "execution_count": 10,
   "metadata": {
    "collapsed": false
   },
   "outputs": [
    {
     "data": {
      "image/png": "[encoded data removed]",
      "text/plain": [
       "PyPlot.Figure(PyObject <matplotlib.figure.Figure object at 0x325d31dd0>)"
      ]
     },
     "metadata": {},
     "output_type": "display_data"
    },
    {
     "name": "stdout",
     "output_type": "stream",
     "text": [
      "Blue line is when we consider outliers 3 and 12 points\n",
      "Green line is when we DON'T consider outliers 3 and 12 points\n"
     ]
    }
   ],
   "source": [
    "figure(figsize=(12,4))\n",
    "plot( x, y, \"r.\", markersize=10)\n",
    "plot( x, y1, \"b-\")\n",
    "plot( x2, y2, \"g-\")\n",
    "println(\"Blue line is when we consider outliers 3 and 12 points\")\n",
    "println(\"Green line is when we DON'T consider outliers 3 and 12 points\")"
   ]
  },
  {
   "cell_type": "markdown",
   "metadata": {},
   "source": [
    "<b>Explanation: </b> We can see that when outliers are not considered the plot is more close to the rest of the points (Green line) than when we consider the outliers (blue line). This is because the best linear fit using l2 (least squares) in blue line is trying to consider the points which are far above as well. "
   ]
  },
  {
   "cell_type": "markdown",
   "metadata": {},
   "source": [
    "<b><u>Solution 1b:</u></b> It’s not always practical to remove outliers from the data manually, so we’ll investigate ways of automatically dealing with outliers by changing our cost function. Find the best linear fit again (including the outliers), but this time use the l1 cost function:\n",
    "\n",
    "\\begin{equation*}\n",
    "l_1 cost : \\sum_{i=1}^{15}  |y_i - ax_i - b|\n",
    "\\end{equation*}"
   ]
  },
  {
   "cell_type": "code",
   "execution_count": 11,
   "metadata": {
    "collapsed": false
   },
   "outputs": [
    {
     "name": "stdout",
     "output_type": "stream",
     "text": [
      "Optimal\n",
      "Value of a: -0.35599999999999987\n",
      "Value of b: 6.6659999999999995\n"
     ]
    }
   ],
   "source": [
    "using JuMP, ECOS\n",
    "x = [ 1, 2, 3, 4, 5, 6, 7, 8, 9, 10, 11, 12, 13, 14, 15 ]\n",
    "y = [ 6.31, 3.78, 24, 1.71, 2.99, 4.53, 2.11, 3.88, 4.67, 4.25, 2.06, 23, 1.58, 2.17, 0.02 ]\n",
    "\n",
    "m1b = Model(solver=GurobiSolver(OutputFlag=0))\n",
    "@variable(m1b, a1)\n",
    "@variable(m1b, b1)\n",
    "@variable(m1b, t[1:length(x)])\n",
    "@expression(m1b, S1[i=1:length(x)], (y[i] - a1*x[i] - b1))\n",
    "\n",
    "@constraint(m1b, S1 .<= t)\n",
    "@constraint(m1b, S1 .>= -t)\n",
    "\n",
    "@objective(m1b, Min, sum(t))\n",
    "            \n",
    "status = solve(m1b)\n",
    "val_a2 = getvalue(a1)\n",
    "val_b2 = getvalue(b1)\n",
    "println(status)\n",
    "println(\"Value of a: \", val_a2)\n",
    "println(\"Value of b: \", val_b2)"
   ]
  },
  {
   "cell_type": "code",
   "execution_count": 12,
   "metadata": {
    "collapsed": false
   },
   "outputs": [
    {
     "data": {
      "image/png": "[encoded data removed]",
      "text/plain": [
       "PyPlot.Figure(PyObject <matplotlib.figure.Figure object at 0x3261bafd0>)"
      ]
     },
     "metadata": {},
     "output_type": "display_data"
    },
    {
     "data": {
      "text/plain": [
       "1-element Array{Any,1}:\n",
       " PyObject <matplotlib.lines.Line2D object at 0x326409b90>"
      ]
     },
     "execution_count": 12,
     "metadata": {},
     "output_type": "execute_result"
    }
   ],
   "source": [
    "y1b = [0.0, 0.0, 0.0, 0.0, 0.0, 0.0, 0.0, 0.0, 0.0, 0.0, 0.0, 0.0, 0.0, 0.0, 0.0]\n",
    "for i = 1:length(x)\n",
    "    y1b[i] += (val_a2 * x[i]) + val_b2\n",
    "end\n",
    "figure(figsize=(12,4))\n",
    "plot( x, y, \"r.\", markersize=10)\n",
    "plot( x, y1b, \"b-\")"
   ]
  },
  {
   "cell_type": "markdown",
   "metadata": {},
   "source": [
    "<b>Explanation: </b> Using the cost function l1 and considering outliers this time we see the above plot. We can see that the above linear fit doesn't do better than least squares that was used in Solution 1a. This plot seems to be not considering outliers because of the defined l1 cost function. "
   ]
  },
  {
   "cell_type": "markdown",
   "metadata": {},
   "source": [
    "<b><u>Solution 1c: </u></b> Another approach is to use an l2 penalty for points that are close to the line but an l1 penalty for points that are far away. Specifically, we’ll use something called the Huber loss."
   ]
  },
  {
   "cell_type": "code",
   "execution_count": 229,
   "metadata": {
    "collapsed": false
   },
   "outputs": [
    {
     "data": {
      "image/png": "[encoded data removed]",
      "text/plain": [
       "PyPlot.Figure(PyObject <matplotlib.figure.Figure object at 0x329352f10>)"
      ]
     },
     "metadata": {},
     "output_type": "display_data"
    },
    {
     "name": "stderr",
     "output_type": "stream",
     "text": [
      "WARNING: Method definition huber_loss(Any) in module Main at In[228]:2 overwritten at In[229]:2.\n"
     ]
    },
    {
     "data": {
      "text/plain": [
       "1-element Array{Any,1}:\n",
       " PyObject <matplotlib.lines.Line2D object at 0x3294aec10>"
      ]
     },
     "execution_count": 229,
     "metadata": {},
     "output_type": "execute_result"
    }
   ],
   "source": [
    "function huber_loss(x)\n",
    "    M = 1\n",
    "    m1c = Model(solver=GurobiSolver(OutputFlag=0))\n",
    "    @variable(m1c, v >= 0)\n",
    "    @variable(m1c, w <= M) # Given M = 1\n",
    "    \n",
    "    @constraint(m1c, x <= (w + v))\n",
    "    @constraint(m1c, x >= -(w + v))\n",
    "    \n",
    "    @objective(m1c, Min, (w^2 + 2 * M * v))\n",
    "    solve(m1c)\n",
    "    return getobjectivevalue(m1c)\n",
    "end\n",
    "\n",
    "x = linspace(-3, 3)\n",
    "y = [huber_loss(items) for items in x]\n",
    "\n",
    "grid(\"on\")\n",
    "plot( x, y, \"b\", label=\"Huber Loss Sol 1c\")"
   ]
  },
  {
   "cell_type": "code",
   "execution_count": 252,
   "metadata": {
    "collapsed": false
   },
   "outputs": [
    {
     "name": "stdout",
     "output_type": "stream",
     "text": [
      "Optimal\n",
      "Value of a: -0.2811079944792559\n",
      "Value of b: 5.738120618207082\n"
     ]
    }
   ],
   "source": [
    "M = 1\n",
    "m1c1 = Model(solver=GurobiSolver(OutputFlag=0))\n",
    "@variable(m1c1, a1c)\n",
    "@variable(m1c1, b1c)\n",
    "@variable(m1c1, w[1:len_x] <= 1)\n",
    "@variable(m1c1, v[1:len_x] >= 0)\n",
    "\n",
    "@constraint(m1c1, y - a1c * x - b1c .<= (w + v))\n",
    "@constraint(m1c1, y - a1c * x - b1c .>= -(w + v))\n",
    "\n",
    "@objective(m1c1, Min, sum(w.^2 + 2 * M * v))\n",
    "status = solve(m1c1)\n",
    "println(status)\n",
    "\n",
    "aopt = getvalue(a1c)\n",
    "bopt = getvalue(b1c)\n",
    "\n",
    "println(\"Value of a: \", aopt)\n",
    "println(\"Value of b: \", bopt)"
   ]
  },
  {
   "cell_type": "code",
   "execution_count": 251,
   "metadata": {
    "collapsed": false
   },
   "outputs": [
    {
     "data": {
      "text/plain": [
       ":Optimal"
      ]
     },
     "execution_count": 251,
     "metadata": {},
     "output_type": "execute_result"
    }
   ],
   "source": [
    "solve(m1c1)"
   ]
  },
  {
   "cell_type": "code",
   "execution_count": 254,
   "metadata": {
    "collapsed": false
   },
   "outputs": [
    {
     "data": {
      "image/png": "[encoded data removed]",
      "text/plain": [
       "PyPlot.Figure(PyObject <matplotlib.figure.Figure object at 0x328dd55d0>)"
      ]
     },
     "metadata": {},
     "output_type": "display_data"
    },
    {
     "data": {
      "text/plain": [
       "1-element Array{Any,1}:\n",
       " PyObject <matplotlib.lines.Line2D object at 0x323440710>"
      ]
     },
     "execution_count": 254,
     "metadata": {},
     "output_type": "execute_result"
    }
   ],
   "source": [
    "x = [ 1, 2, 3, 4, 5, 6, 7, 8, 9, 10, 11, 12, 13, 14, 15 ]\n",
    "y1c = [0.0, 0.0, 0.0, 0.0, 0.0, 0.0, 0.0, 0.0, 0.0, 0.0, 0.0, 0.0, 0.0, 0.0, 0.0]\n",
    "for i = 1:length(x)\n",
    "    y1c[i] += (aopt * x[i]) + bopt\n",
    "end\n",
    "figure(figsize=(12,4))\n",
    "plot( x, y, \"r.\", markersize=10)\n",
    "plot( x, y1c, \"b-\")"
   ]
  },
  {
   "cell_type": "code",
   "execution_count": null,
   "metadata": {
    "collapsed": true
   },
   "outputs": [],
   "source": []
  }
 ],
 "metadata": {
  "kernelspec": {
   "display_name": "Julia 0.5.0",
   "language": "julia",
   "name": "julia-0.5"
  },
  "language_info": {
   "file_extension": ".jl",
   "mimetype": "application/julia",
   "name": "julia",
   "version": "0.5.0"
  }
 },
 "nbformat": 4,
 "nbformat_minor": 2
}
