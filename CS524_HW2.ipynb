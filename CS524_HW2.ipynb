{
 "cells": [
  {
   "cell_type": "code",
   "execution_count": 1,
   "metadata": {
    "collapsed": true
   },
   "outputs": [],
   "source": [
    "using JuMP"
   ]
  },
  {
   "cell_type": "markdown",
   "metadata": {},
   "source": [
    "# Solution 1: Stigler's Diet\n",
    "George Stigler published a paper investigating the composition of an optimal diet; minimizing total cost while meeting the recommended daily allowance (RDA) of several nutrients. To answer this question, Stigler tabulated a list of 77 foods and their nutrient content for 9 nutrients: calories, protein, calcium, iron, vitamin A, thiamine, riboflavin, niacin, and ascorbic acid."
   ]
  },
  {
   "cell_type": "code",
   "execution_count": 68,
   "metadata": {
    "collapsed": true
   },
   "outputs": [],
   "source": [
    "# using the ipython file provided in the homework\n",
    "\n",
    "using NamedArrays      # make sure you run Pkg.add(\"NamedArrays\") first!\n",
    "\n",
    "# import Stigler's data set\n",
    "raw = readcsv(\"/Users/spidy/Documents/CS524/stigler.csv\")\n",
    "(m,n) = size(raw)\n",
    "\n",
    "n_nutrients = 2:n      # columns containing nutrients\n",
    "n_foods = 3:m          # rows containing food names\n",
    "\n",
    "nutrients = raw[1,n_nutrients][:]   # the list of nutrients (convert to 1-D array)\n",
    "foods = raw[n_foods,1][:]           # the list of foods (convert to 1-D array)\n",
    "\n",
    "# lower[i] is the minimum daily requirement of nutrient i.\n",
    "lower = Dict( zip(nutrients,raw[2,n_nutrients]) )\n",
    "\n",
    "# data[f,i] is the amount of nutrient i contained in food f.\n",
    "data = NamedArray( raw[n_foods,n_nutrients], (foods,nutrients), (\"foods\",\"nutrients\") );"
   ]
  },
  {
   "cell_type": "markdown",
   "metadata": {},
   "source": [
    "<b><u>Solution 1a:</u></b> Formulate Stigler’s diet problem as an LP and solve it. First converting the Array to real so that we can\n",
    "have a vector comparison done without any issues. \n",
    "Formulating into the form Ax >= b and solving for x:"
   ]
  },
  {
   "cell_type": "code",
   "execution_count": 90,
   "metadata": {
    "collapsed": false
   },
   "outputs": [],
   "source": [
    "data_matrix = convert(Array{Real, 2}, data)'\n",
    "lower_b_val = [lower[elem] for elem in nutrients]\n",
    "m1 = Model()\n",
    "@variable(m1, x[1:length(n_foods)] >= 0)\n",
    "@constraint(m1, data_matrix * x .>= lower_b_val)\n",
    "@objective(m1, Min, sum(x))\n",
    "status = solve(m1)\n",
    "per_day_elem_val = getvalue(x)\n",
    "per_day_cost = getobjectivevalue(m1);"
   ]
  },
  {
   "cell_type": "markdown",
   "metadata": {},
   "source": [
    "Calculating the nutrients cost per year based on the per_day_cost calculated before and doing a total to get the per year cost. Sum of all the cost is equal to the minimum cost we calculated as objective. \n",
    "\n",
    "<b>How does your cheapest diet compare in annual cost to Stigler’s?</b>\n",
    "\n",
    "The minimum cost calculated using the objective function is 39.66USD per year as compared to 39.93USD (Stigler's) cost per year.\n",
    "\n",
    "<b>What foods make up your optimal diet?</b>\n",
    "The elements that make up the optimal diet are the ones for which the xi value was not zero i.e.\n",
    "<br>Wheat Flour (Enriched)\n",
    "<br>Liver (Beef)\n",
    "<br>Cabbage\n",
    "<br>Spinach and\n",
    "<br>Navy Beans, Dried"
   ]
  },
  {
   "cell_type": "code",
   "execution_count": 91,
   "metadata": {
    "collapsed": false,
    "scrolled": false
   },
   "outputs": [
    {
     "name": "stdout",
     "output_type": "stream",
     "text": [
      "   Wheat Flour (Enriched):  10.774458 USD\n",
      "             Liver (Beef):   0.690783 USD\n",
      "                  Cabbage:   4.093269 USD\n",
      "                  Spinach:   1.827796 USD\n",
      "        Navy Beans, Dried:  22.275426 USD\n",
      "-----------------------------------------\n",
      "    SUM of cost(per_year):  39.661732 USD\n",
      "\n",
      "         TOTAL (per year):  39.661732 USD\n"
     ]
    }
   ],
   "source": [
    "total_cost = 0\n",
    "for i in 1:length(per_day_elem_val)\n",
    "    if (per_day_elem_val[i] != 0)\n",
    "        total_cost += 365 * per_day_elem_val[i]\n",
    "        @printf(\"%25s: %10f USD\\n\", foods[i], 365 * per_day_elem_val[i])\n",
    "    end\n",
    "end\n",
    "@printf(\"-----------------------------------------\\n\")\n",
    "@printf(\"%26s %10f USD\\n\", \"SUM of cost(per_year):\", total_cost)\n",
    "@printf(\"\\n\")\n",
    "@printf(\"%26s %10f USD\\n\", \"TOTAL (per year):\", 365 * per_day_cost)"
   ]
  },
  {
   "cell_type": "markdown",
   "metadata": {},
   "source": [
    "<b><u>Solution 1b:</u></b> In the above solution, the two food items - Wheat Flour(Enriched) and Liver (Beef) cannot be counted in Vegan and Gluten Free (GF). Need to add constraints to make sure these are not counted in Vegan and GF.\n",
    "The below solution will be very similar to the above one but with more constraints i.e. for all non vegan and GF we will have to add constraints where x (for all non GF & Vegan) will be equal to zero. "
   ]
  },
  {
   "cell_type": "code",
   "execution_count": 95,
   "metadata": {
    "collapsed": true
   },
   "outputs": [],
   "source": [
    "m1b = Model()\n",
    "@variable(m1b, x[1:length(n_foods)] >= 0)\n",
    "@constraint(m1b, data_matrix * x .>= lower_b_val)\n",
    "@constraint(m1b, x[1] == 0)   # Adding constraint for Wheat (non GF)\n",
    "@constraint(m1b, x[30] == 0)  # # Adding constraint for Liver (Beefs) -- not Vegan\n",
    "@objective(m1b, Min, sum(x))\n",
    "status = solve(m1b)\n",
    "per_day_elem_val = getvalue(x)\n",
    "per_day_cost = getobjectivevalue(m1b);"
   ]
  },
  {
   "cell_type": "code",
   "execution_count": 96,
   "metadata": {
    "collapsed": false
   },
   "outputs": [
    {
     "name": "stdout",
     "output_type": "stream",
     "text": [
      "                     Lard:   1.317325 USD\n",
      "                  Cabbage:   4.095669 USD\n",
      "                  Spinach:   1.954756 USD\n",
      "        Navy Beans, Dried:  38.188423 USD\n",
      "-----------------------------------------\n",
      "              SUM of cost:  45.556173 USD\n",
      "\n",
      "                    TOTAL:  45.556173 USD\n"
     ]
    }
   ],
   "source": [
    "total_cost = 0\n",
    "for i in 1:length(per_day_elem_val)\n",
    "    if (per_day_elem_val[i] != 0)\n",
    "        total_cost += 365 * per_day_elem_val[i]\n",
    "        @printf(\"%25s: %10f USD\\n\", foods[i], 365 * per_day_elem_val[i])\n",
    "    end\n",
    "end\n",
    "@printf(\"-----------------------------------------\\n\")\n",
    "@printf(\"%26s %10f USD\\n\", \"SUM of cost:\", total_cost)\n",
    "@printf(\"\\n\")\n",
    "@printf(\"%26s %10f USD\\n\", \"TOTAL:\", 365 * per_day_cost)"
   ]
  },
  {
   "cell_type": "markdown",
   "metadata": {},
   "source": [
    "Lard is pig's fat as per Wikipedia and cannot be considered as Vegan. Hence adding another constraint to the above solution. "
   ]
  },
  {
   "cell_type": "code",
   "execution_count": 98,
   "metadata": {
    "collapsed": false
   },
   "outputs": [
    {
     "name": "stdout",
     "output_type": "stream",
     "text": [
      "                Corn Meal:   1.950650 USD\n",
      "                  Cabbage:   4.129334 USD\n",
      "                  Spinach:   1.889148 USD\n",
      "        Navy Beans, Dried:  37.619415 USD\n",
      "-----------------------------------------\n",
      "              SUM of cost:  45.588548 USD\n",
      "\n",
      "                    TOTAL:  45.588548 USD\n"
     ]
    }
   ],
   "source": [
    "m1b = Model()\n",
    "@variable(m1b, x[1:length(n_foods)] >= 0)\n",
    "@constraint(m1b, data_matrix * x .>= lower_b_val)\n",
    "@constraint(m1b, x[1] == 0)  # Adding constraint for Wheat (non GF)\n",
    "@constraint(m1b, x[30] == 0) # Adding constraint for Liver (Beefs) -- not Vegan\n",
    "@constraint(m1b, x[24] == 0) # Adding constraint for Lard -- not Vegan\n",
    "\n",
    "@objective(m1b, Min, sum(x))\n",
    "status = solve(m1b)\n",
    "per_day_elem_val = getvalue(x)\n",
    "per_day_cost = getobjectivevalue(m1b);\n",
    "total_cost = 0\n",
    "for i in 1:length(per_day_elem_val)\n",
    "    if (per_day_elem_val[i] != 0)\n",
    "        total_cost += 365 * per_day_elem_val[i]\n",
    "        @printf(\"%25s: %10f USD\\n\", foods[i], 365 * per_day_elem_val[i])\n",
    "    end\n",
    "end\n",
    "@printf(\"-----------------------------------------\\n\")\n",
    "@printf(\"%26s %10f USD\\n\", \"SUM of cost:\", total_cost)\n",
    "@printf(\"\\n\")\n",
    "@printf(\"%26s %10f USD\\n\", \"TOTAL:\", 365 * per_day_cost)"
   ]
  },
  {
   "cell_type": "markdown",
   "metadata": {},
   "source": [
    "<b>Total optimal cost for Vegan and Glutten Free: </b> 45.588548 USD. \n",
    "\n",
    "<b>what foods would be used?</b> Please find below:\n",
    "<br>Corn Meal\n",
    "<br>Cabbage\n",
    "<br>Spinach\n",
    "<br>Navy Beans, Dried"
   ]
  },
  {
   "cell_type": "markdown",
   "metadata": {},
   "source": [
    "# Solution 2: Construction with constraints\n",
    "\n",
    "| |Month-1 | Month-2 | Month-3 | Month-4 | Total_Worker\n",
    "|--------------|\n",
    "|Project | PR-1 |PR-1 | PR-1 | -    | 8\n",
    "|Project | PR-2 |PR-2 | PR-2 | PR-2 | 10\n",
    "|Project | PR-3 |PR-3 |  -   | -    | 12\n",
    "|Workers Available| 8 | 8 | 8 | 8 | -\n",
    "\n",
    "<br> One more given constraint -  no more than 6 workers can work on a single job."
   ]
  },
  {
   "cell_type": "code",
   "execution_count": 126,
   "metadata": {
    "collapsed": false
   },
   "outputs": [],
   "source": [
    "# Let the number of workers for Project1 be x1, x2, x3\n",
    "# Let the number of workers for Project2 be y1, y2, y3, y4\n",
    "# Let the number of workers for Project3 be z1, z2\n",
    "m2 = Model()\n",
    "@variable(m2, 0 <= x[1:3] <= 6) # Constraint that no more than 6 workers can work on a single job\n",
    "@variable(m2, 0 <= y[1:4] <= 6) # Constraint that no more than 6 workers can work on a single job\n",
    "@variable(m2, 0 <= z[1:2] <= 6) # Constraint that no more than 6 workers can work on a single job\n",
    "@constraint(m2, (x[1] + y[1] + z[1]) <= 8) # Workers available per month - 8\n",
    "@constraint(m2, (x[2] + y[2] + z[2]) <= 8)\n",
    "@constraint(m2, (x[3] + y[3]) <= 8)\n",
    "@constraint(m2, (y[4]) <= 8)\n",
    "@constraint(m2, sum(x[1:3])  == 8)  \n",
    "@constraint(m2, sum(y[1:4])  == 10)\n",
    "@constraint(m2, sum(z[1:2])  == 12)\n",
    "@objective(m2, Min, (sum(x[1:3]) + sum(y[1:4]) + sum(z[1:2])));"
   ]
  },
  {
   "cell_type": "code",
   "execution_count": 146,
   "metadata": {
    "collapsed": false
   },
   "outputs": [
    {
     "name": "stdout",
     "output_type": "stream",
     "text": [
      "Workers required for Project-1 per month: [0,2,6]\n",
      "Workers required for Project-2 per month: [2,0,2,6]\n",
      "Workers required for Project-3 per month: [6,6]\n",
      "Objective Function: 30.0\n"
     ]
    }
   ],
   "source": [
    "status = solve(m2)\n",
    "x_val = getvalue(x)\n",
    "y_val = getvalue(y)\n",
    "z_val = getvalue(z)\n",
    "getobjectivevalue(m2)\n",
    "println(\"Workers required for Project-1 per month: \", Array{Int}(getvalue(x)))\n",
    "println(\"Workers required for Project-2 per month: \", Array{Int}(getvalue(y)))\n",
    "println(\"Workers required for Project-3 per month: \", Array{Int}(getvalue(z)))\n",
    "println(\"Objective Function: \", getobjectivevalue(m2))"
   ]
  },
  {
   "cell_type": "markdown",
   "metadata": {},
   "source": [
    "Looking at above solution it looks like all the projects can be completed on time. "
   ]
  },
  {
   "cell_type": "markdown",
   "metadata": {},
   "source": [
    "# Solution 3: Museum site planning."
   ]
  },
  {
   "cell_type": "code",
   "execution_count": 10,
   "metadata": {
    "collapsed": false
   },
   "outputs": [
    {
     "name": "stdout",
     "output_type": "stream",
     "text": [
      "Optimal\n",
      "The coordinates of the Chebyshev center are: [244.029,244.029]\n",
      "The largest possible radius is: 194.0285267938019\n"
     ]
    }
   ],
   "source": [
    "A = [2 3; 3 -1; -1 0; 0 1; 0 -1];\n",
    "b = [2100; 1500; 0; 500; 0]\n",
    "\n",
    "using JuMP\n",
    "\n",
    "m = Model()\n",
    "@variable(m, r >= 0)           # radius\n",
    "@variable(m, x1[1:2])           # coordinates of center\n",
    "\n",
    "for i = 1:size(A,1)\n",
    "    @constraint(m, A[i,:]'*x1 + r*norm(A[i,:]) .<= b[i])\n",
    "end\n",
    "\n",
    "@objective(m, Max, r)     # maximize radius\n",
    "\n",
    "status = solve(m)\n",
    "center = getvalue(x1)\n",
    "radius = getvalue(r)\n",
    "\n",
    "println(status)\n",
    "println(\"The coordinates of the Chebyshev center are: \", center)\n",
    "println(\"The largest possible radius is: \", radius - 50)"
   ]
  },
  {
   "cell_type": "code",
   "execution_count": 20,
   "metadata": {
    "collapsed": false
   },
   "outputs": [
    {
     "data": {
      "image/png": "[encoded data removed]",
      "text/plain": [
       "PyPlot.Figure(PyObject <matplotlib.figure.Figure object at 0x329e97410>)"
      ]
     },
     "metadata": {},
     "output_type": "display_data"
    },
    {
     "data": {
      "text/plain": [
       "PyObject <matplotlib.patches.Circle object at 0x32a024950>"
      ]
     },
     "execution_count": 20,
     "metadata": {},
     "output_type": "execute_result"
    }
   ],
   "source": [
    "using PyCall\n",
    "@pyimport matplotlib.patches as patch\n",
    "using PyPlot\n",
    "plt = PyPlot;\n",
    "x = linspace(0, 700, 10)\n",
    "y1 = 3x - 1500\n",
    "y2 = -(2/3)x + 700\n",
    "y3 = -(2/3)x + 650\n",
    "y4 = 3x - 1350\n",
    "plt.plot(x, y1)\n",
    "plt.plot(x, y2)\n",
    "plt.plot(x, y3)\n",
    "plt.plot(x, y4)\n",
    "ax = plt.gca()\n",
    "ax[:set_xlim]((-100,700));\n",
    "ax[:set_ylim]((-100, 600));\n",
    "plt.axhline(y=500)\n",
    "plt.axhline(y=450)\n",
    "plt.axhline(y=0)\n",
    "plt.axhline(y=50)\n",
    "plt.axvline(x=0)\n",
    "plt.axvline(x=50)\n",
    "plt.grid(\"on\")\n",
    "ax[:set_aspect](\"equal\")\n",
    "c = patch.Circle([244.029,244.029],194.029,fc=\"blue\")\n",
    "ax[:add_artist](c)"
   ]
  },
  {
   "cell_type": "markdown",
   "metadata": {},
   "source": [
    "# Solution 4: Electricity Grid with Storage\n",
    "The town of Hamilton buys its electricity from the Powerco utility, which charges for electricity on an hourly basis. If less than 50 MWh is used during a given hour, then the cost is 100 USD per MWh. Any excess beyond 50 MWh used during the hour is charged at the higher rate of 400 USD per MWh. The maximum power that Powerco can provide in any given hour is 75 MWh."
   ]
  },
  {
   "cell_type": "markdown",
   "metadata": {},
   "source": [
    "<b><u>Solution a:</u></b>\n",
    "How much money can the town of Hamilton save per day thanks to the battery? Assume that the battery begins the day completely drained. Also, to be safe from possible black-outs, limit the amount of electricity purchased every hour to a maximum of 65 MWh."
   ]
  },
  {
   "cell_type": "code",
   "execution_count": 15,
   "metadata": {
    "collapsed": false
   },
   "outputs": [
    {
     "name": "stdout",
     "output_type": "stream",
     "text": [
      "Regular power purchased per hour: [50,50,35,50,10,50,50,50,47,50,44,50,44,50,42,50,50,50,50,50,50,50,50,50]\n",
      "Excess power purchased per hour: [0,0,0,0,0,0,0,0,0,0,0,0,0,0,0,0,0,13,13,15,15,15,7,0]\n",
      "Batt Storage: [0,7,17,16,30,5,17,26,30,28,30,27,30,26,30,27,30,30,30,18,8,1,0,0,0]\n",
      "Objective Function: 143400.0\n"
     ]
    }
   ],
   "source": [
    "# Given in the input question\n",
    "demand = [43; 40; 36; 36; 35; 38; 41; 46; 49; 48; 47; 47; 48; 46; 45; 47; 50; 63; 75; 75; 72; 66; 57; 50;]\n",
    "mod4 = Model()\n",
    "@variable(mod4, 0 <= reg_usage[1:24] <= 50)\n",
    "@variable(mod4, excess_usage[1:24] >= 0)\n",
    "@variable(mod4, batt_bkup[1:25] <= 30)\n",
    "\n",
    "# Assume that the battery begins the day completely drained.\n",
    "@constraint(mod4, batt_bkup[1] == 0)\n",
    "\n",
    "#  Also, to be safe from possible black-outs, limit the amount of electricity purchased every hour to a \n",
    "# maximum of 65 MWh.\n",
    "@constraint(mod4, reg_usage + excess_usage + batt_bkup[1:24] .>= demand)\n",
    "@constraint(mod4, reg_usage + excess_usage .<= 65)\n",
    "\n",
    "# conservation of power (similar to Sailco example)\n",
    "for i in 1:24\n",
    "    @constraint(mod4, reg_usage[i] + excess_usage[i] + batt_bkup[i] == batt_bkup[i+1] + demand[i])\n",
    "end\n",
    "\n",
    "@constraint(mod4, batt_bkup .<= 30)\n",
    "@objective(mod4, Min, 100 * sum(reg_usage) + 400 * sum(excess_usage))\n",
    "\n",
    "solve(mod4)\n",
    "power_purchased_per_hour = getvalue(reg_usage) + getvalue(excess_usage)\n",
    "batt_storage_per_hour = getvalue(batt_bkup)\n",
    "println(\"Regular power purchased per hour: \", Array{Int}(getvalue(reg_usage)))\n",
    "println(\"Excess power purchased per hour: \", Array{Int}(getvalue(excess_usage)))\n",
    "println(\"Batt Storage: \", Array{Int}(getvalue(batt_bkup)))\n",
    "\n",
    "println(\"Objective Function: \", getobjectivevalue(mod4))"
   ]
  },
  {
   "cell_type": "code",
   "execution_count": 16,
   "metadata": {
    "collapsed": false
   },
   "outputs": [
    {
     "name": "stdout",
     "output_type": "stream",
     "text": [
      "Cost without battery: 152400\n",
      "Savings per day because of battery: 9000.0\n"
     ]
    }
   ],
   "source": [
    "# Cost without battery\n",
    "cost = 0\n",
    "for i in 1:24\n",
    "    if demand[i] > 50\n",
    "        cost += (demand[i] - 50) * 400 + (50 * 100)\n",
    "    else\n",
    "        cost += (demand[i] * 100)\n",
    "    end\n",
    "end\n",
    "println(\"Cost without battery: \", cost)\n",
    "println(\"Savings per day because of battery: \", cost - getobjectivevalue(mod4))"
   ]
  },
  {
   "cell_type": "markdown",
   "metadata": {},
   "source": [
    "<b><u>Solution b:</u></b> How much money would be saved if the battery had an infinite capacity? In this scenario, how\n",
    "much of the battery’s capacity is actually used?"
   ]
  },
  {
   "cell_type": "code",
   "execution_count": 21,
   "metadata": {
    "collapsed": false
   },
   "outputs": [
    {
     "name": "stdout",
     "output_type": "stream",
     "text": [
      "Regular power purchased per hour: [50,50,50,50,50,50,50,50,50,50,50,50,50,50,50,50,50,50,50,50,50,50,50,50]\n",
      "Excess power purchased per hour: [0,0,0,0,0,0,0,0,0,0,0,0,0,0,0,0,0,0,0,0,0,0,0,0]\n",
      "Batt Storage: [0,7,17,31,45,60,72,81,85,86,88,91,94,96,100,105,108,108,95,70,45,23,7,0,0]\n",
      "Objective Function: 120000.0\n",
      "Savings: 32400.0\n"
     ]
    }
   ],
   "source": [
    "# Given in the input question\n",
    "demand = [43; 40; 36; 36; 35; 38; 41; 46; 49; 48; 47; 47; 48; 46; 45; 47; 50; 63; 75; 75; 72; 66; 57; 50;]\n",
    "mod4b = Model()\n",
    "@variable(mod4b, 0 <= reg_usage[1:24] <= 50)\n",
    "@variable(mod4b, excess_usage[1:24] >= 0)\n",
    "# infinite battery capacity\n",
    "@variable(mod4b, batt_bkup[1:25] >= 0)\n",
    "\n",
    "# Assume that the battery begins the day completely drained.\n",
    "@constraint(mod4b, batt_bkup[1] == 0)\n",
    "\n",
    "@constraint(mod4b, reg_usage + excess_usage .<= 65)\n",
    "\n",
    "# conservation of power (similar to Sailco example)\n",
    "for i in 1:24\n",
    "    @constraint(mod4b, reg_usage[i] + excess_usage[i] + batt_bkup[i] == batt_bkup[i+1] + demand[i])\n",
    "end\n",
    "\n",
    "@objective(mod4b, Min, 100 * sum(reg_usage) + 400 * sum(excess_usage))\n",
    "\n",
    "solve(mod4b)\n",
    "power_purchased_per_hour = getvalue(reg_usage) + getvalue(excess_usage)\n",
    "batt_storage_per_hour = getvalue(batt_bkup)\n",
    "println(\"Regular power purchased per hour: \", Array{Int}(getvalue(reg_usage)))\n",
    "println(\"Excess power purchased per hour: \", Array{Int}(getvalue(excess_usage)))\n",
    "println(\"Batt Storage: \", Array{Int}(getvalue(batt_bkup)))\n",
    "\n",
    "println(\"Objective Function: \", getobjectivevalue(mod4b))\n",
    "println(\"Savings: \", cost - getobjectivevalue(mod4b))"
   ]
  },
  {
   "cell_type": "markdown",
   "metadata": {},
   "source": [
    "<b><u>Solution c:</u></b> Make a plot that shows (i) the typical energy demand vs time of day (ii) the electricity purchased using the strategy found in part a) vs time of day, and (iii) the battery capacity used as a function of time (draw all three plots on the same axes).\n",
    "\n",
    "<b>Note</b>\n",
    "<br>\n",
    "<b>For (iii)</b> - I have plotted for only 24 hours and not 25entries because 25th entry was 0 as well. "
   ]
  },
  {
   "cell_type": "code",
   "execution_count": 3,
   "metadata": {
    "collapsed": false
   },
   "outputs": [
    {
     "name": "stderr",
     "output_type": "stream",
     "text": [
      "\u001b[1m\u001b[34mINFO: Precompiling module QuartzImageIO.\n",
      "\u001b[0m"
     ]
    },
    {
     "data": {
      "image/png": "[encoded data removed]",
      "text/plain": [
       "1394×830 Array{RGBA{N0f8},2}:\n",
       " RGBA{N0f8}(0.0,0.0,0.0,0.0)          …  RGBA{N0f8}(0.537,0.537,0.537,0.102)\n",
       " RGBA{N0f8}(0.6,0.6,0.6,0.02)            RGBA{N0f8}(0.525,0.525,0.525,0.596)\n",
       " RGBA{N0f8}(0.624,0.624,0.624,0.031)     RGBA{N0f8}(0.529,0.529,0.529,0.616)\n",
       " RGBA{N0f8}(0.624,0.624,0.624,0.031)     RGBA{N0f8}(0.529,0.529,0.529,0.616)\n",
       " RGBA{N0f8}(0.624,0.624,0.624,0.031)     RGBA{N0f8}(0.529,0.529,0.529,0.616)\n",
       " RGBA{N0f8}(0.624,0.624,0.624,0.031)  …  RGBA{N0f8}(0.529,0.529,0.529,0.616)\n",
       " RGBA{N0f8}(0.624,0.624,0.624,0.031)     RGBA{N0f8}(0.529,0.529,0.529,0.616)\n",
       " RGBA{N0f8}(0.624,0.624,0.624,0.031)     RGBA{N0f8}(0.529,0.529,0.529,0.616)\n",
       " RGBA{N0f8}(0.624,0.624,0.624,0.031)     RGBA{N0f8}(0.529,0.529,0.529,0.616)\n",
       " RGBA{N0f8}(0.624,0.624,0.624,0.031)     RGBA{N0f8}(0.529,0.529,0.529,0.616)\n",
       " RGBA{N0f8}(0.624,0.624,0.624,0.031)  …  RGBA{N0f8}(0.529,0.529,0.529,0.616)\n",
       " RGBA{N0f8}(0.624,0.624,0.624,0.031)     RGBA{N0f8}(0.529,0.529,0.529,0.616)\n",
       " RGBA{N0f8}(0.624,0.624,0.624,0.031)     RGBA{N0f8}(0.529,0.529,0.529,0.616)\n",
       " ⋮                                    ⋱                                     \n",
       " RGBA{N0f8}(0.624,0.624,0.624,0.031)     RGBA{N0f8}(0.529,0.529,0.529,0.616)\n",
       " RGBA{N0f8}(0.624,0.624,0.624,0.031)     RGBA{N0f8}(0.529,0.529,0.529,0.616)\n",
       " RGBA{N0f8}(0.624,0.624,0.624,0.031)     RGBA{N0f8}(0.529,0.529,0.529,0.616)\n",
       " RGBA{N0f8}(0.624,0.624,0.624,0.031)  …  RGBA{N0f8}(0.529,0.529,0.529,0.616)\n",
       " RGBA{N0f8}(0.624,0.624,0.624,0.031)     RGBA{N0f8}(0.529,0.529,0.529,0.616)\n",
       " RGBA{N0f8}(0.624,0.624,0.624,0.031)     RGBA{N0f8}(0.529,0.529,0.529,0.616)\n",
       " RGBA{N0f8}(0.624,0.624,0.624,0.031)     RGBA{N0f8}(0.529,0.529,0.529,0.616)\n",
       " RGBA{N0f8}(0.624,0.624,0.624,0.031)     RGBA{N0f8}(0.529,0.529,0.529,0.616)\n",
       " RGBA{N0f8}(0.624,0.624,0.624,0.031)  …  RGBA{N0f8}(0.529,0.529,0.529,0.616)\n",
       " RGBA{N0f8}(0.624,0.624,0.624,0.031)     RGBA{N0f8}(0.529,0.529,0.529,0.616)\n",
       " RGBA{N0f8}(0.624,0.624,0.624,0.031)     RGBA{N0f8}(0.529,0.529,0.529,0.616)\n",
       " RGBA{N0f8}(1.0,1.0,1.0,0.004)           RGBA{N0f8}(0.529,0.529,0.529,0.392)"
      ]
     },
     "execution_count": 3,
     "metadata": {},
     "output_type": "execute_result"
    }
   ],
   "source": [
    "img = testimage(\"/Users/spidy/Documents/CS524/4c.png\")"
   ]
  },
  {
   "cell_type": "markdown",
   "metadata": {},
   "source": [
    "<b><u>Solution d</u></b> Comment on whether the solutions you found are unique. Are other solutions possible? Why? -- I think there are other solutions possible to this problem. The total savings/cost would be same but the distribution of battery backup can be across the day can be different. \n",
    "The solution with infinity backup at first didn't seem to be unique but later substituting different values of battery usage I was getting same answer w.r.t to cost so I believe we have a unique solution. \n",
    "\n",
    "Suggest a way of finding another optimal solution.\n",
    "My best guess is to convert the program into a linear program of the type Ax <= b or Ax >= b and solve it to obtain the optimal solution with all the possible constraint from the problem. I would still say that the answer from cost/saving point of view would still be close to the solution obtained above.\n",
    "\n"
   ]
  },
  {
   "cell_type": "code",
   "execution_count": null,
   "metadata": {
    "collapsed": true
   },
   "outputs": [],
   "source": []
  }
 ],
 "metadata": {
  "kernelspec": {
   "display_name": "Julia 0.5.0",
   "language": "julia",
   "name": "julia-0.5"
  },
  "language_info": {
   "file_extension": ".jl",
   "mimetype": "application/julia",
   "name": "julia",
   "version": "0.5.0"
  }
 },
 "nbformat": 4,
 "nbformat_minor": 2
}
