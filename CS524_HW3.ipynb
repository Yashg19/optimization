{
 "cells": [
  {
   "cell_type": "code",
   "execution_count": 1,
   "metadata": {
    "collapsed": false
   },
   "outputs": [
    {
     "name": "stderr",
     "output_type": "stream",
     "text": [
      "\u001b[1m\u001b[34mINFO: Recompiling stale cache file /Users/spidy/.julia/lib/v0.5/NamedArrays.ji for module NamedArrays.\n",
      "\u001b[0m"
     ]
    }
   ],
   "source": [
    "using NamedArrays, JuMP"
   ]
  },
  {
   "cell_type": "markdown",
   "metadata": {},
   "source": [
    "# Solution 1 - Doodle scheduling. \n",
    "Doodle Inc. is looking to interview a candidate for a new software engineer position at their company. It works like this: the interview (10 AM to 3 PM) is divided into a number of 20-minute time slots that may be used for 1-on-1 meetings with the candidate. There is also a one-hour time slot in the middle of the day where 3 employees take the candidate out for lunch. It would be nice for all 15 senior employees to meet with the candidate at some point during the day, but everybody has a busy schedule so it’s not clear whether this will be possible. A doodle poll (obviously) was sent to the 15 senior employees to figure out their availability."
   ]
  },
  {
   "cell_type": "code",
   "execution_count": 2,
   "metadata": {
    "collapsed": false
   },
   "outputs": [
    {
     "name": "stdout",
     "output_type": "stream",
     "text": [
      "15×13 Named Array{Int64,2}\n",
      "employees ╲ time │ 10:00  10:20  10:40  11:00  11:20  11:40  Lunch   1:00   1:20   1:40   2:00   2:20   2:40\n",
      "─────────────────┼──────────────────────────────────────────────────────────────────────────────────────────\n",
      "Manuel           │     0      0      1      1      0      0      0      1      1      0      0      0      0\n",
      "Luca             │     0      1      1      0      0      0      0      0      1      1      0      0      0\n",
      "Jule             │     0      0      0      1      1      0      1      1      0      1      1      1      1\n",
      "Michael          │     0      0      0      1      1      1      1      1      1      1      1      1      0\n",
      "Malte            │     0      0      0      0      0      0      1      1      1      0      0      0      0\n",
      "Chris            │     0      1      1      0      0      0      0      0      1      1      0      0      0\n",
      "Spyros           │     0      0      0      1      1      1      1      0      0      0      0      0      0\n",
      "Mirjam           │     1      1      0      0      0      0      0      0      0      0      1      1      1\n",
      "Matt             │     1      1      1      0      0      0      0      0      0      1      1      0      0\n",
      "Florian          │     0      0      0      0      0      0      0      1      1      0      0      0      0\n",
      "Josep            │     0      0      0      0      0      0      1      1      1      0      0      0      0\n",
      "Joel             │     1      1      0      0      0      1      1      1      1      0      0      1      1\n",
      "Tom              │     1      1      1      0      1      1      0      0      0      0      0      1      1\n",
      "Daniel           │     0      1      1      1      0      0      0      0      0      0      0      0      0\n",
      "Anne             │     1      1      0      0      1      1      0      0      0      0      0      0      0"
     ]
    }
   ],
   "source": [
    "# Given Input (Thanks to Piazza post for giving the idea on how to print and use input data from the question)\n",
    "employees = [:Manuel, :Luca, :Jule, :Michael, :Malte, :Chris, :Spyros, :Mirjam,\n",
    "    :Matt, :Florian, :Josep, :Joel, :Tom, :Daniel, :Anne]\n",
    "\n",
    "times = [\"10:00\", \"10:20\", \"10:40\", \"11:00\", \"11:20\", \"11:40\", \"Lunch\", \"1:00\", \"1:20\", \"1:40\", \"2:00\", \"2:20\", \"2:40\"]\n",
    "\n",
    "matrix = [\n",
    "0\t0\t1\t1\t0\t0\t0\t1\t1\t0\t0\t0\t0\n",
    "0\t1\t1\t0\t0\t0\t0\t0\t1\t1\t0\t0\t0\n",
    "0\t0\t0\t1\t1\t0\t1\t1\t0\t1\t1\t1\t1\n",
    "0\t0\t0\t1\t1\t1\t1\t1\t1\t1\t1\t1\t0\n",
    "0\t0\t0\t0\t0\t0\t1\t1\t1\t0\t0\t0\t0\n",
    "0\t1\t1\t0\t0\t0\t0\t0\t1\t1\t0\t0\t0\n",
    "0\t0\t0\t1\t1\t1\t1\t0\t0\t0\t0\t0\t0\n",
    "1\t1\t0\t0\t0\t0\t0\t0\t0\t0\t1\t1\t1\n",
    "1\t1\t1\t0\t0\t0\t0\t0\t0\t1\t1\t0\t0\n",
    "0\t0\t0\t0\t0\t0\t0\t1\t1\t0\t0\t0\t0\n",
    "0\t0\t0\t0\t0\t0\t1\t1\t1\t0\t0\t0\t0\n",
    "1\t1\t0\t0\t0\t1\t1\t1\t1\t0\t0\t1\t1\n",
    "1\t1\t1\t0\t1\t1\t0\t0\t0\t0\t0\t1\t1\n",
    "0\t1\t1\t1\t0\t0\t0\t0\t0\t0\t0\t0\t0\n",
    "1\t1\t0\t0\t1\t1\t0\t0\t0\t0\t0\t0\t0\n",
    "]\n",
    "\n",
    "using NamedArrays\n",
    "data = NamedArray(matrix, (employees, times), (\"employees\",\"time\"))\n",
    "show(IOContext(STDOUT, displaysize=(100, 1000)), data)"
   ]
  },
  {
   "cell_type": "code",
   "execution_count": 3,
   "metadata": {
    "collapsed": true
   },
   "outputs": [],
   "source": [
    "# From the input question - each employee will interview the candidate only once and so for all employees the \n",
    "# supply will be equal to 1\n",
    "supply = Dict(zip( employees, [1 1 1 1 1 1 1 1 1 1 1 1 1 1 1] ))\n",
    "\n",
    "# From the input question - for each interval, candidate will interview with just one person at each time slot. \n",
    "# For lunch however, three employees should be present. Hence, the demand for lunch will be 3 and rest all will be 1.\n",
    "demand = Dict(zip( times, [1 1 1 1 1 1 3 1 1 1 1 1 1] ));"
   ]
  },
  {
   "cell_type": "code",
   "execution_count": 4,
   "metadata": {
    "collapsed": false
   },
   "outputs": [],
   "source": [
    "m1 = Model()\n",
    "\n",
    "# Decision variables x[i,j] >= 0\n",
    "@variable(m1, x[employees,times] >= 0)\n",
    "\n",
    "# supply constraint\n",
    "@constraint(m1, sup[i in employees], sum(x[i,j] for j in times) == supply[i] )\n",
    "# demand constraint\n",
    "@constraint(m1, dem[j in times], sum(x[i,j] for i in employees) == demand[j] )\n",
    "\n",
    "# constraint that employees should be available during the timeslot (as per given input 0 means not available and \n",
    "# 1 means available)\n",
    "for i in employees\n",
    "    for j in times\n",
    "        @constraint(m1, x[i, j] <= data[i, j])\n",
    "    end\n",
    "end\n",
    "\n",
    "# Objective\n",
    "@objective(m1, Min, sum( x[i,j] for i in employees, j in times ) );"
   ]
  },
  {
   "cell_type": "code",
   "execution_count": 5,
   "metadata": {
    "collapsed": false
   },
   "outputs": [
    {
     "name": "stdout",
     "output_type": "stream",
     "text": [
      "Optimal\n",
      "\n",
      "Solution is feasible. Calendar for the candidate that lists who they will be meeting at each time slot\n",
      "\n",
      "15×13 Named Array{Int64,2}\n",
      "People ╲ Time_Slot │ 10:00  10:20  10:40  11:00  11:20  11:40  Lunch   1:00   1:20   1:40   2:00   2:20   2:40\n",
      "───────────────────┼──────────────────────────────────────────────────────────────────────────────────────────\n",
      "Manuel             │     0      0      0      0      0      0      0      1      0      0      0      0      0\n",
      "Luca               │     0      0      0      0      0      0      0      0      0      1      0      0      0\n",
      "Jule               │     0      0      0      0      0      0      0      0      0      0      0      1      0\n",
      "Michael            │     0      0      0      0      0      0      0      0      0      0      1      0      0\n",
      "Malte              │     0      0      0      0      0      0      1      0      0      0      0      0      0\n",
      "Chris              │     0      0      1      0      0      0      0      0      0      0      0      0      0\n",
      "Spyros             │     0      0      0      0      0      0      1      0      0      0      0      0      0\n",
      "Mirjam             │     0      0      0      0      0      0      0      0      0      0      0      0      1\n",
      "Matt               │     0      1      0      0      0      0      0      0      0      0      0      0      0\n",
      "Florian            │     0      0      0      0      0      0      0      0      1      0      0      0      0\n",
      "Josep              │     0      0      0      0      0      0      1      0      0      0      0      0      0\n",
      "Joel               │     1      0      0      0      0      0      0      0      0      0      0      0      0\n",
      "Tom                │     0      0      0      0      0      1      0      0      0      0      0      0      0\n",
      "Daniel             │     0      0      0      1      0      0      0      0      0      0      0      0      0\n",
      "Anne               │     0      0      0      0      1      0      0      0      0      0      0      0      0\n",
      "Total: 15.0\n"
     ]
    }
   ],
   "source": [
    "status = solve(m1)\n",
    "\n",
    "println(status)\n",
    "\n",
    "# nicely formatted solution\n",
    "solution = NamedArray( Int[getvalue(x[i,j]) for i in employees, j in times], (employees,times), (\"People\",\"Time_Slot\") )\n",
    "\n",
    "println()\n",
    "println(\"Solution is feasible. Calendar for the candidate that lists who they will be meeting at each time slot\")\n",
    "println()\n",
    "show(IOContext(STDOUT, displaysize=(100, 1000)), solution)\n",
    "println()\n",
    "println(\"Total: \", getobjectivevalue(m1))"
   ]
  },
  {
   "cell_type": "markdown",
   "metadata": {},
   "source": [
    "# Solution 2 - Car rental.\n",
    "A small car rental company has a fleet of 94 vehicles distributed among its 10 agencies. The location of every agency is given by its geographical coordinates x and y in a grid based on miles. We assume that the road distance between agencies is approximately 1.3 times the Euclidean distance (as the crow flies). The following table indicates the coordinates of all agencies, the number of cars required the next morning, and the stock of cars in the evening preceding this day."
   ]
  },
  {
   "cell_type": "code",
   "execution_count": 19,
   "metadata": {
    "collapsed": false
   },
   "outputs": [
    {
     "data": {
      "text/plain": [
       "4×10 Named Array{Int64,2}\n",
       "Property ╲ Agency │  1   2   3   4   5   6   7   8   9  10\n",
       "──────────────────┼───────────────────────────────────────\n",
       "xCoords           │  0  20  18  30  35  33   5   5  11   2\n",
       "yCoords           │  0  20  10  12   0  25  27  10   0  15\n",
       "carsReq           │ 10   6   8  11   9   7  15   7   9  12\n",
       "carsPres          │  8  13   4   8  12   2  14  11  15   7"
      ]
     },
     "execution_count": 19,
     "metadata": {},
     "output_type": "execute_result"
    }
   ],
   "source": [
    "# Given input data\n",
    "agencies = [1:10;]\n",
    "matrix = [\n",
    "0 20 18 30 35 33 5 5 11 2\n",
    "0 20 10 12 0 25 27 10 0 15\n",
    "10 6 8 11 9 7 15 7 9 12\n",
    "8 13 4 8 12 2 14 11 15 7\n",
    "]\n",
    "properties = [:xCoords, :yCoords, :carsReq, :carsPres]\n",
    "\n",
    "using NamedArrays\n",
    "data = NamedArray(matrix, (properties, agencies), (\"Property\", \"Agency\"))"
   ]
  },
  {
   "cell_type": "code",
   "execution_count": 20,
   "metadata": {
    "collapsed": false
   },
   "outputs": [],
   "source": [
    "# Cost\n",
    "cost = 0.5\n",
    "\n",
    "# Agencies with excess cars (i.e. carsPres > carsReq)\n",
    "excess_cars_agencies = [2, 5, 8, 9]\n",
    "\n",
    "# Agencies with less cars (i.e. carsPres < carsReq)\n",
    "less_cars_agencies = [:1, :3, :4, :6, :7, :10]\n",
    "\n",
    "# Input coordinates for all the agencies\n",
    "x = [0, 20, 18, 30, 35, 33, 5, 5, 11, 2]\n",
    "y = [0, 20, 10, 12, 0, 25, 27, 10, 0, 15]\n",
    "\n",
    "# Agencies that have excess cars with them - calculate the # of excess cars and save the difference. For ex. Agency 2\n",
    "# has 13 cars present and 6 are required. Excess cars = 13 - 6 = 7. Similarly calculate for all excess car agencies\n",
    "supply = Dict(zip( excess_cars_agencies, [7 3 4 6] ))\n",
    "\n",
    "# Agencies that require car - For ex. Agency 1 has 8 cars but need 10. So, we will save the difference as 2. Therefore\n",
    "# Agency 1 needs 2 cars. Similarly calculated for other agencies requiring car. \n",
    "demand = Dict(zip( less_cars_agencies, [2 4 3 5 1 5] ));"
   ]
  },
  {
   "cell_type": "code",
   "execution_count": 21,
   "metadata": {
    "collapsed": false
   },
   "outputs": [
    {
     "name": "stdout",
     "output_type": "stream",
     "text": [
      "Distance Matrix between agencies (with extra cars and the one which need cars)\n",
      "\n",
      "4×6 Named Array{Float64,2}\n",
      "Agencies(ExtraCars) ╲ Agencies(NeedCar) │       1        3        4        6        7       10\n",
      "────────────────────────────────────────┼─────────────────────────────────────────────────────\n",
      "2                                       │ 36.7696  13.2575  16.6481  18.1069  21.5188   24.286\n",
      "5                                       │    45.5    25.64     16.9  32.6038  52.4691  47.1239\n",
      "8                                       │ 14.5344     16.9  32.6038  41.2942     22.1  7.58024\n",
      "9                                       │    14.3  15.8685  29.2139  43.2921  35.9562  22.7407"
     ]
    }
   ],
   "source": [
    "# Function to calculate distance between the agencies where transferred is required. This function will store the dist\n",
    "# value based on the given input conditions into a list which will be used to populate the multidimensional distance\n",
    "# matrix. \n",
    "di = []\n",
    "for i in excess_cars_agencies\n",
    "    x_a = x[i]\n",
    "    y_a = y[i]\n",
    "    for j in less_cars_agencies\n",
    "        x_b = x[j]\n",
    "        y_b = y[j]\n",
    "        dist_a_b = 1.3*sqrt((x_a - x_b)^2 + (y_a - y_b)^2)\n",
    "        push!(di, dist_a_b)\n",
    "    end\n",
    "end \n",
    "\n",
    "# Multi-dimensional matrix (4 because we have 4 agencies with excess car and 6 columns as we have 6 agencies that need\n",
    "# car at their locations.)\n",
    "mat = [0.0 for i=1:4, j=1:6]\n",
    "\n",
    "k = 0\n",
    "for i=1:size(mat,1)\n",
    "    k += 1\n",
    "    for j=1:6\n",
    "        mat[i,j] = di[k]\n",
    "        k += 1\n",
    "    end\n",
    "    k -= 1\n",
    "end\n",
    "# Putting the distance values in dist NamedArray\n",
    "dist = NamedArray( [36.7696 13.2575 16.6481 18.1069 21.5188 24.286; 45.5 25.64 16.9 32.6038 52.4691 47.1239; 14.5344 16.9 32.6038 41.2942 22.1 7.58024; 14.3 15.8685 29.2139 43.2921 35.9562 22.7407], (excess_cars_agencies,less_cars_agencies), (\"Agencies(ExtraCars)\",\"Agencies(NeedCar)\") )\n",
    "\n",
    "println(\"Distance Matrix between agencies (with extra cars and the one which need cars)\")\n",
    "println()\n",
    "show(IOContext(STDOUT, displaysize=(100, 1000)), dist)"
   ]
  },
  {
   "cell_type": "code",
   "execution_count": 22,
   "metadata": {
    "collapsed": false
   },
   "outputs": [
    {
     "name": "stdout",
     "output_type": "stream",
     "text": [
      "Optimal\n",
      "4×6 Named Array{Int64,2}\n",
      "excess_cars_agencies ╲ less_cars_agencies │  1   3   4   6   7  10\n",
      "──────────────────────────────────────────┼───────────────────────\n",
      "2                                         │  0   1   0   5   1   0\n",
      "5                                         │  0   0   3   0   0   0\n",
      "8                                         │  0   0   0   0   0   4\n",
      "9                                         │  2   3   0   0   0   1\n",
      "\n",
      "Total cost will be $152.63897999999998\n"
     ]
    }
   ],
   "source": [
    "m2 = Model()\n",
    "@variable(m2, x[excess_cars_agencies,less_cars_agencies] >= 0)\n",
    "@constraint(m2, sup[i in excess_cars_agencies], sum(x[i,j] for j in less_cars_agencies) == supply[i] )\n",
    "@constraint(m2, dem[j in less_cars_agencies], sum(x[i,j] for i in excess_cars_agencies) == demand[j] )\n",
    "@objective(m2, Min, cost*sum( x[i,j]*dist[i,j] for i in excess_cars_agencies, j in less_cars_agencies ) )\n",
    "                                    \n",
    "status = solve(m2)\n",
    "\n",
    "println(status)\n",
    "\n",
    "# nicely formatted solution\n",
    "solution = NamedArray( Int[getvalue(x[i,j]) for i in excess_cars_agencies, j in less_cars_agencies], (excess_cars_agencies,less_cars_agencies), (\"excess_cars_agencies\",\"less_cars_agencies\") )\n",
    "println( solution )\n",
    "println()\n",
    "\n",
    "println(\"Total cost will be \\$\", getobjectivevalue(m2))"
   ]
  },
  {
   "cell_type": "markdown",
   "metadata": {},
   "source": [
    "# Solution 3: Building a stadium.\n",
    "A town council wishes to construct a small stadium in order to improve the services provided to the people living in the district. After the invitation to tender, a local construction company is awarded the contract and wishes to complete the task within the shortest possible time. All the major tasks are listed in the following table. Some tasks can only start after the completion of certain other tasks, as indicated by the “Predecessors” column."
   ]
  },
  {
   "cell_type": "code",
   "execution_count": 2,
   "metadata": {
    "collapsed": true
   },
   "outputs": [],
   "source": [
    "# I am adding one extra task - 19 that will just signify the Finish of the project. Task 19 will have a duration of 0.\n",
    "# Task 19 will have arc from Task 10, 13, 15, 16 and 18.\n",
    "# Based on this I have add duration of 0, preds of Task 19 as 10, 13, 15, 16 and 18\n",
    "\n",
    "tasks = [1:19;]\n",
    "\n",
    "duration  = Dict(zip(tasks, [2, 16, 9, 8, 10, 6, 2, 2, 9, 5, 3, 2, 1, 7, 4, 3, 9, 1, 0]))\n",
    "preds     = Dict(zip(tasks, ([],[1],[2],[2],[3],[4,5],[4],[6],[4,6],[4],[6],[9],[7],[2],[4,14],[8,11,14],[12],[17], [10,13,15,16,18])))\n",
    "maxReduc  = Dict(zip(tasks, [0, 3, 1, 2, 2, 1, 1, 0, 2, 1, 1, 0, 0, 2, 2, 1, 3, 0, 0]))\n",
    "reducCost = Dict(zip([2, 3, 4, 5, 6, 7, 9, 10, 11, 14, 15, 16, 17], [30, 26, 12, 17, 15, 8, 42, 21, 18, 22, 12, 6, 16]));"
   ]
  },
  {
   "cell_type": "markdown",
   "metadata": {},
   "source": [
    "What is the earliest possible date of completion for the construction? Note that the last two columns of the table are not relevant for this part of the problem.\n",
    "\n",
    "<b><u>Solution 3a</u></b> - Please find the solution below. The start variable should be >=0 for all the task ids in the list. \n",
    "Adding constraint where task with predecessors can only start when the previous task is finished. For example if there is an arc between i and j - this means there is a dependency that task j can start only when task i has finished with duration."
   ]
  },
  {
   "cell_type": "code",
   "execution_count": 5,
   "metadata": {
    "collapsed": false
   },
   "outputs": [
    {
     "data": {
      "text/latex": [
       "$$ tstart_{19} $$"
      ],
      "text/plain": [
       "tstart[19]"
      ]
     },
     "execution_count": 5,
     "metadata": {},
     "output_type": "execute_result"
    }
   ],
   "source": [
    "m3a = Model()\n",
    "\n",
    "@variable(m3a, tstart[tasks] >= 0 )\n",
    "for i in tasks\n",
    "    for j in preds[i]\n",
    "        @constraint(m3a, tstart[i] >= tstart[j] + duration[j])\n",
    "    end\n",
    "end\n",
    "@objective(m3a, Min, tstart[19])\n",
    "\n",
    "# solve(m3a)\n",
    "# println(getvalue(tstart))\n",
    "\n",
    "# println(\"Earliest possible date of completion for the construction (in weeks): \", getobjectivevalue(m3a))"
   ]
  },
  {
   "cell_type": "code",
   "execution_count": 6,
   "metadata": {
    "collapsed": false
   },
   "outputs": [
    {
     "data": {
      "text/latex": [
       "$$ \\begin{alignat*}{1}\\min\\quad & tstart_{19}\\\\\n",
       "\\text{Subject to} \\quad & tstart_{2} - tstart_{1} \\geq 2\\\\\n",
       " & tstart_{3} - tstart_{2} \\geq 16\\\\\n",
       " & tstart_{4} - tstart_{2} \\geq 16\\\\\n",
       " & tstart_{5} - tstart_{3} \\geq 9\\\\\n",
       " & tstart_{6} - tstart_{4} \\geq 8\\\\\n",
       " & tstart_{6} - tstart_{5} \\geq 10\\\\\n",
       " & tstart_{7} - tstart_{4} \\geq 8\\\\\n",
       " & tstart_{8} - tstart_{6} \\geq 6\\\\\n",
       " & tstart_{9} - tstart_{4} \\geq 8\\\\\n",
       " & tstart_{9} - tstart_{6} \\geq 6\\\\\n",
       " & tstart_{10} - tstart_{4} \\geq 8\\\\\n",
       " & tstart_{11} - tstart_{6} \\geq 6\\\\\n",
       " & tstart_{12} - tstart_{9} \\geq 9\\\\\n",
       " & tstart_{13} - tstart_{7} \\geq 2\\\\\n",
       " & tstart_{14} - tstart_{2} \\geq 16\\\\\n",
       " & tstart_{15} - tstart_{4} \\geq 8\\\\\n",
       " & tstart_{15} - tstart_{14} \\geq 7\\\\\n",
       " & tstart_{16} - tstart_{8} \\geq 2\\\\\n",
       " & tstart_{16} - tstart_{11} \\geq 3\\\\\n",
       " & tstart_{16} - tstart_{14} \\geq 7\\\\\n",
       " & tstart_{17} - tstart_{12} \\geq 2\\\\\n",
       " & tstart_{18} - tstart_{17} \\geq 9\\\\\n",
       " & tstart_{19} - tstart_{10} \\geq 5\\\\\n",
       " & tstart_{19} - tstart_{13} \\geq 1\\\\\n",
       " & tstart_{19} - tstart_{15} \\geq 4\\\\\n",
       " & tstart_{19} - tstart_{16} \\geq 3\\\\\n",
       " & tstart_{19} - tstart_{18} \\geq 1\\\\\n",
       " & tstart_{i} \\geq 0 \\quad\\forall i \\in \\{1,2,\\dots,18,19\\}\\\\\n",
       "\\end{alignat*}\n",
       " $$"
      ],
      "text/plain": [
       "Minimization problem with:\n",
       " * 27 linear constraints\n",
       " * 19 variables\n",
       "Solver is default solver"
      ]
     },
     "execution_count": 6,
     "metadata": {},
     "output_type": "execute_result"
    }
   ],
   "source": [
    "m3a"
   ]
  },
  {
   "cell_type": "markdown",
   "metadata": {},
   "source": [
    "<b><u>Solution 3b</u></b>  Plot a trade-off curve that shows extra cost as a function of the number of weeks\n",
    "early we wish the stadium to be completed."
   ]
  },
  {
   "cell_type": "code",
   "execution_count": 12,
   "metadata": {
    "collapsed": false
   },
   "outputs": [
    {
     "name": "stdout",
     "output_type": "stream",
     "text": [
      "Extra Cost for each additional week (in thousand dollars): 0.0\n",
      "Extra Cost for each additional week (in thousand dollars): 15.0\n",
      "Extra Cost for each additional week (in thousand dollars): 31.0\n",
      "Extra Cost for each additional week (in thousand dollars): 47.0\n",
      "Extra Cost for each additional week (in thousand dollars): 63.0\n",
      "Extra Cost for each additional week (in thousand dollars): 80.0\n",
      "Extra Cost for each additional week (in thousand dollars): 97.0\n",
      "Extra Cost for each additional week (in thousand dollars): 123.0\n",
      "Extra Cost for each additional week (in thousand dollars): 153.0\n",
      "Extra Cost for each additional week (in thousand dollars): 183.0\n",
      "Extra Cost for each additional week (in thousand dollars): 213.0\n",
      "Extra Cost for each additional week (in thousand dollars): 255.0\n",
      "Extra Cost for each additional week (in thousand dollars): 297.0\n",
      "Extra Cost for each additional week (in thousand dollars): NaN\n"
     ]
    }
   ],
   "source": [
    "function f3b(extra_weeks)\n",
    "    m3b = Model()\n",
    "\n",
    "    rCost = Dict(zip(tasks, [0, 30, 26, 12, 17, 15, 8, 0, 42, 21, 18, 0, 0, 22, 12, 6, 16, 0, 0]));\n",
    "\n",
    "    # Decision variable for number of weeks finished before allotted period\n",
    "    @variable(m3b, treduc[tasks] >= 0 )\n",
    "\n",
    "    # Decision variable for start time of each task\n",
    "    @variable(m3b, tstart[tasks] >= 0 )\n",
    "\n",
    "    # Constrainst as per input table that the number of weeks finished early can not be greater than max reduction\n",
    "    for i in 1:18\n",
    "        @constraint(m3b, treduc[i] <= maxReduc[i])\n",
    "    end\n",
    "\n",
    "    # Using solution 3a answer here (64 weeks). The new start time for task 19 + saved time should be equal to 64 weeks - \n",
    "    # extra weeks (Varying it from 1 - 13). For 13 you will see an infeasible solution\n",
    "    @constraint(m3b, tstart[19] + treduc[19] == getobjectivevalue(m3a) - extra_weeks)\n",
    "\n",
    "    # Considering there is an arc from i to j - then adding Constraint that start time for task j should be greater than\n",
    "    # start time of task i + its duration - whatever time we have saved\n",
    "    for i in tasks\n",
    "        for j in preds[i]\n",
    "            @constraint(m3b, tstart[i] - tstart[j] + treduc[j] >= duration[j])\n",
    "        end\n",
    "    end\n",
    "\n",
    "    # Objective function is to maximize the profit which will be 30K * saved time at the end - sum of (cost of reduction \n",
    "    # incurred for task i * reduction in time for task i)\n",
    "    @objective(m3b, Min, sum(treduc[i] * rCost[i] for i in tasks))\n",
    "\n",
    "    solve(m3b)\n",
    "    # println(getvalue(tstart))\n",
    "    println(\"Extra Cost for each additional week (in thousand dollars): \", getobjectivevalue(m3b))\n",
    "end\n",
    "\n",
    "for i in 0:13\n",
    "    f3b(i)\n",
    "end"
   ]
  },
  {
   "cell_type": "code",
   "execution_count": 13,
   "metadata": {
    "collapsed": false
   },
   "outputs": [
    {
     "data": {
      "image/png": "[encoded data removed]",
      "text/plain": [
       "PyPlot.Figure(PyObject <matplotlib.figure.Figure object at 0x313e96ad0>)"
      ]
     },
     "metadata": {},
     "output_type": "display_data"
    },
    {
     "data": {
      "text/plain": [
       "1-element Array{Any,1}:\n",
       " PyObject <matplotlib.lines.Line2D object at 0x31e630c10>"
      ]
     },
     "execution_count": 13,
     "metadata": {},
     "output_type": "execute_result"
    }
   ],
   "source": [
    "extra_cost=[0, 15, 31, 47, 63, 80, 97, 123, 153, 183, 213, 255, 297]\n",
    "reduced_time=[0, 1, 2, 3, 4, 5, 6, 7, 8, 9, 10, 11, 12]\n",
    "using PyPlot\n",
    "plot(reduced_time,extra_cost,label=\"extra cost vs reduced weeks\")"
   ]
  },
  {
   "cell_type": "markdown",
   "metadata": {},
   "source": [
    "<b><u>Solution 3c</u></b> - The town council wants the builder to expedite the project. As an incentive, the council will pay a bonus of $30k/week for each week the work finishes early. When will the project be completed if the builder is acting in a way that maximizes his profit?"
   ]
  },
  {
   "cell_type": "code",
   "execution_count": 14,
   "metadata": {
    "collapsed": true
   },
   "outputs": [],
   "source": [
    "rCost = Dict(zip(tasks, [0, 30, 26, 12, 17, 15, 8, 0, 42, 21, 18, 0, 0, 22, 12, 6, 16, 0, 0]));"
   ]
  },
  {
   "cell_type": "code",
   "execution_count": 15,
   "metadata": {
    "collapsed": false
   },
   "outputs": [
    {
     "name": "stdout",
     "output_type": "stream",
     "text": [
      "treduc: 1 dimensions:\n",
      "[ 1] = 0.0\n",
      "[ 2] = 3.0\n",
      "[ 3] = 1.0\n",
      "[ 4] = 0.0\n",
      "[ 5] = 2.0\n",
      "[ 6] = 1.0\n",
      "[ 7] = 0.0\n",
      "[ 8] = 0.0\n",
      "[ 9] = 0.0\n",
      "[10] = 0.0\n",
      "[11] = 0.0\n",
      "[12] = 0.0\n",
      "[13] = 0.0\n",
      "[14] = 0.0\n",
      "[15] = 0.0\n",
      "[16] = 0.0\n",
      "[17] = 3.0\n",
      "[18] = 0.0\n",
      "[19] = 10.0\n",
      "\n",
      "tstart: 1 dimensions:\n",
      "[ 1] = 0.0\n",
      "[ 2] = 2.0\n",
      "[ 3] = 15.0\n",
      "[ 4] = 15.0\n",
      "[ 5] = 23.0\n",
      "[ 6] = 31.0\n",
      "[ 7] = 51.0\n",
      "[ 8] = 49.0\n",
      "[ 9] = 36.0\n",
      "[10] = 49.0\n",
      "[11] = 48.0\n",
      "[12] = 45.0\n",
      "[13] = 53.0\n",
      "[14] = 15.0\n",
      "[15] = 50.0\n",
      "[16] = 51.0\n",
      "[17] = 47.0\n",
      "[18] = 53.0\n",
      "[19] = 54.0\n",
      "\n",
      "Maximum Profit (in thousand dollars): 87.0\n",
      "Job will be finished 10 weeks earlier!!\n"
     ]
    }
   ],
   "source": [
    "m3c = Model()\n",
    "\n",
    "# Decision variable for number of weeks finished before allotted period\n",
    "@variable(m3c, treduc[tasks] >= 0 )\n",
    "\n",
    "# Decision variable for start time of each task\n",
    "@variable(m3c, tstart[tasks] >= 0 )\n",
    "\n",
    "# Constrainst as per input table that the number of weeks finished early can not be greater than max reduction\n",
    "for i in 1:18\n",
    "    @constraint(m3c, treduc[i] <= maxReduc[i])\n",
    "end\n",
    "\n",
    "# Using solution 3a answer here (64 weeks). The new start time for task 19 + saved time should be equal to 64 weeks\n",
    "@constraint(m3c, tstart[19] + treduc[19] == getobjectivevalue(m3a))\n",
    "\n",
    "# Considering there is an arc from i to j - then adding Constraint that start time for task j should be greater than\n",
    "# start time of task i + its duration - whatever time we have saved\n",
    "for i in tasks\n",
    "    for j in preds[i]\n",
    "        @constraint(m3c, tstart[i] - tstart[j] + treduc[j] >= duration[j])\n",
    "    end\n",
    "end\n",
    "\n",
    "# Objective function is to maximize the profit which will be 30K * saved time at the end - sum of (cost of reduction \n",
    "# incurred for task i * reduction in time for task i)\n",
    "@objective(m3c, Max, (30*treduc[19]) - sum(treduc[i] * rCost[i] for i in tasks))\n",
    "            \n",
    "solve(m3c)\n",
    "println(getvalue(treduc))\n",
    "println(getvalue(tstart))\n",
    "println(\"Maximum Profit (in thousand dollars): \", getobjectivevalue(m3c))\n",
    "println(\"Job will be finished 10 weeks earlier!!\")"
   ]
  },
  {
   "cell_type": "markdown",
   "metadata": {},
   "source": [
    "# Solution 4 - Dual interpretation"
   ]
  },
  {
   "cell_type": "code",
   "execution_count": 16,
   "metadata": {
    "collapsed": false
   },
   "outputs": [
    {
     "data": {
      "image/png": "[encoded data removed]",
      "text/plain": [
       "PyPlot.Figure(PyObject <matplotlib.figure.Figure object at 0x31e49e290>)"
      ]
     },
     "metadata": {},
     "output_type": "display_data"
    },
    {
     "data": {
      "text/plain": [
       "1-element Array{Any,1}:\n",
       " PyObject <matplotlib.lines.Line2D object at 0x321c720d0>"
      ]
     },
     "execution_count": 16,
     "metadata": {},
     "output_type": "execute_result"
    }
   ],
   "source": [
    "val = linspace(0, 2π, 1000)\n",
    "func_val = []\n",
    "function f(t)\n",
    "    m4a = Model()\n",
    "    @variable(m4a, p >= 0)\n",
    "    @variable(m4a, q >= 0)\n",
    "    @variable(m4a, r >= 0)\n",
    "    @variable(m4a, s >= 0)\n",
    "    @constraint(m4a, p - r == cos(t))\n",
    "    @constraint(m4a, q - s == sin(t))\n",
    "    @objective(m4a, Min, p + q + r + s)\n",
    "    status=solve(m4a)\n",
    "    push!(func_val, getobjectivevalue(m4a))\n",
    "end\n",
    "\n",
    "for i in 1:1000\n",
    "    f(val[i])\n",
    "end\n",
    "\n",
    "using PyPlot\n",
    "plot(val, func_val, label=\"f(t) vs t\")"
   ]
  },
  {
   "cell_type": "markdown",
   "metadata": {},
   "source": [
    "<b><u>Understanding: </u></b>Looking at the above plotting, it looks like the graph is always plotted on the positive side. First curve comes down to π/2, second from π/2 to π, third from π/2 to 3π/2 and 4th curve from 3π/2 to 2π. So, let's consider all the possible cases:\n",
    "<br>\n",
    "1. if cost(t) < 0: this means from p - r = cos(t), p = 0 and r = -cos(t)\n",
    "<br>\n",
    "2. if cost(t) > 0: this means from p - r = cos(t), r = 0 and p = cos(t)\n",
    "<br>\n",
    "3. if sin(t) < 0: this means from q - s = sin(t), q = 0 and s = -sin(t)\n",
    "<br>\n",
    "4. if sin(t) > 0: this means from q - s = sin(t), s = 0 and q = -sin(t)\n",
    "\n",
    "Like four quadrant of the circle we will have 1st quadrant (sin(t) and cos(t) positive), 2nd quadrant (sin(t) positive and cos(t) negative, 3rd quadrant (both sin(t) and cos(t) negative) and 4th quadrant (cos(t) positive and sin(t) negative).\n",
    "\n",
    "Looking at this it seems like p+q+r+s = |sin(t)| + |cos(t)| is what can be interpreted from the plot and understanding above."
   ]
  },
  {
   "cell_type": "markdown",
   "metadata": {},
   "source": [
    "<b><u>Solution 4b: </u></b> Find the dual LP and interpret it geometrically. Does this agree with the solution of part a)?\n",
    "Looking at the example discussed in class where the primal problem is converted to dual problem."
   ]
  },
  {
   "cell_type": "markdown",
   "metadata": {},
   "source": [
    "Let λ1, λ2 be the multipliers.\n",
    "<br>\n",
    "p + q + r + s >= λ1(p-r) + λ2(q-s)\n",
    "<br>\n",
    "p + q + r + s >= λ1(cos(t)) + λ2(sin(t)) ------------------------------- (1)\n",
    "<br>\n",
    "<br>\n",
    "Rearranging (1) we get\n",
    "<br>\n",
    "λ1p - λ1r + λ2q - λ2s - p - q - r - s <= 0\n",
    "<br>\n",
    "p(λ1-1) + q(λ2-1) + r(-λ1-1) + s(-λ2-s) <= 0 --------------------------- (2)\n",
    "\n",
    "<br>\n",
    "<b>Dual Problem:</b>\n",
    "<br>\n",
    "\\begin{equation*}\n",
    "maximize_{λ1, λ2}: λ1(cos(t)) + λ2(sin(t))\n",
    "\\end{equation*}\n",
    "\\begin{equation*}\n",
    "subject to: λ1 <= 1\n",
    "\\end{equation*}\n",
    "\\begin{equation*}\n",
    "λ2 <= 1\n",
    "\\end{equation*}\n",
    "\\begin{equation*}\n",
    "λ1 >= -1\n",
    "\\end{equation*}\n",
    "\\begin{equation*}\n",
    "λ2 >= -1\n",
    "\\end{equation*}\n",
    "\n",
    "<br>\n",
    "λ1 and λ2 are free variables so we will just declare them variables.\n",
    "\n",
    "A = \n",
    "$\\left[ \\begin{array}{cccc}\n",
    "1 & 0\\\\\n",
    "0 & 1\\\\\n",
    "-1 & 0\\\\\n",
    "0 & -1\\\\\\end{array} \\right]$    b = \n",
    "$\\left[ \\begin{array}{cccc}\n",
    "λ1\\\\\n",
    "λ2\\\\ \\end{array} \\right]$     c = \n",
    "$\\left[ \\begin{array}{cccc}\n",
    "1\\\\\n",
    "1\\\\\n",
    "1\\\\\n",
    "1\\\\\\end{array} \\right]$"
   ]
  },
  {
   "cell_type": "code",
   "execution_count": 17,
   "metadata": {
    "collapsed": false
   },
   "outputs": [
    {
     "data": {
      "image/png": "[encoded data removed]",
      "text/plain": [
       "PyPlot.Figure(PyObject <matplotlib.figure.Figure object at 0x321c94310>)"
      ]
     },
     "metadata": {},
     "output_type": "display_data"
    },
    {
     "data": {
      "text/plain": [
       "1-element Array{Any,1}:\n",
       " PyObject <matplotlib.lines.Line2D object at 0x321e259d0>"
      ]
     },
     "execution_count": 17,
     "metadata": {},
     "output_type": "execute_result"
    }
   ],
   "source": [
    "val = linspace(0, 2π, 1000)\n",
    "func_val = []\n",
    "function f1(t)\n",
    "    m4b = Model()\n",
    "    @variable(m4b, λ[1:2])\n",
    "    @constraint(m4b, λ[1] <= 1)\n",
    "    @constraint(m4b, λ[2] <= 1)\n",
    "    @constraint(m4b, λ[1] >= -1)\n",
    "    @constraint(m4b, λ[2] >= -1)\n",
    "\n",
    "    @objective(m4b, Max, λ[1]*cos(t) + λ[2]*sin(t))\n",
    "\n",
    "    status = solve(m4b)\n",
    "    push!(func_val, getobjectivevalue(m4b))\n",
    "end\n",
    "\n",
    "for i in 1:1000\n",
    "    f1(val[i])\n",
    "end\n",
    "\n",
    "using PyPlot\n",
    "plot(val, func_val, label=\"f1(t) vs t\")"
   ]
  }
 ],
 "metadata": {
  "kernelspec": {
   "display_name": "Julia 0.5.0",
   "language": "julia",
   "name": "julia-0.5"
  },
  "language_info": {
   "file_extension": ".jl",
   "mimetype": "application/julia",
   "name": "julia",
   "version": "0.5.0"
  }
 },
 "nbformat": 4,
 "nbformat_minor": 2
}
