{
 "cells": [
  {
   "cell_type": "code",
   "execution_count": 4,
   "metadata": {
    "collapsed": false
   },
   "outputs": [],
   "source": [
    "using JuMP, ECOS, Clp, SCS\n",
    "using Plots"
   ]
  },
  {
   "cell_type": "markdown",
   "metadata": {},
   "source": [
    "# Solution 1: Solving the problem using Clp, ECOS, and SCS solvers"
   ]
  },
  {
   "cell_type": "code",
   "execution_count": 7,
   "metadata": {
    "collapsed": false
   },
   "outputs": [
    {
     "name": "stdout",
     "output_type": "stream",
     "text": [
      "  0.000750 seconds (98 allocations: 6.109 KB)\n",
      "=======================================================\n",
      "value x1: 3.0\n",
      "value x2: 0.0\n",
      "value x3: 3.0\n",
      "1. Maximum value (Clp Solver): $48.0\n",
      "=======================================================\n",
      "\n",
      "  0.001839 seconds (831 allocations: 48.250 KB)\n",
      "=======================================================\n",
      "value x1: 2.999999998571697\n",
      "value x2: 8.223270011736391e-9\n",
      "value x3: 3.0000000001977236\n",
      "2. Maximum value (ECOS Solver): $47.999999986810174\n",
      "=======================================================\n",
      "\n",
      "  0.001942 seconds (641 allocations: 38.102 KB)\n",
      "=======================================================\n",
      "value x1: 2.999985652990818\n",
      "value x2: 4.149724928776938e-6\n",
      "value x3: 3.0000130627112176\n",
      "3. Maximum value (SCS Solver): $48.00006780505256\n",
      "=======================================================\n"
     ]
    }
   ],
   "source": [
    "# Solving using Clp Solver\n",
    "m = Model(solver=ClpSolver())\n",
    "@variable(m, 0 <= x1 <= 3)\n",
    "@variable(m, 0 <= x2 <= 3)\n",
    "@variable(m, 0 <= x3 <= 3)\n",
    "@constraint(m, 2x1 >= x2 + x3)\n",
    "@objective(m, Max, 5x1 - x2 + 11x3)\n",
    "@time status=solve(m)\n",
    "println(\"=======================================================\")\n",
    "println(\"value x1: \", getvalue(x1))\n",
    "println(\"value x2: \", getvalue(x2))\n",
    "println(\"value x3: \", getvalue(x3))\n",
    "println(\"1. Maximum value (Clp Solver): \\$\", getobjectivevalue(m))\n",
    "println(\"=======================================================\")\n",
    "println(\"\")\n",
    "##########################################################\n",
    "\n",
    "m1 = Model(solver=ECOSSolver(verbose=0))\n",
    "@variable(m1, 0 <= x1 <= 3)\n",
    "@variable(m1, 0 <= x2 <= 3)\n",
    "@variable(m1, 0 <= x3 <= 3)\n",
    "@constraint(m1, 2x1 >= x2 + x3)\n",
    "@objective(m1, Max, 5x1 - x2 + 11x3)\n",
    "\n",
    "@time status=solve(m1)\n",
    "println(\"=======================================================\")\n",
    "println(\"value x1: \", getvalue(x1))\n",
    "println(\"value x2: \", getvalue(x2))\n",
    "println(\"value x3: \", getvalue(x3))\n",
    "println(\"2. Maximum value (ECOS Solver): \\$\", getobjectivevalue(m1))\n",
    "println(\"=======================================================\")\n",
    "println(\"\")\n",
    "##########################################################\n",
    "\n",
    "m2 = Model(solver=SCSSolver(verbose=0))\n",
    "@variable(m2, 0 <= x1 <= 3)\n",
    "@variable(m2, 0 <= x2 <= 3)\n",
    "@variable(m2, 0 <= x3 <= 3)\n",
    "@constraint(m2, 2x1 >= x2 + x3)\n",
    "@objective(m2, Max, 5x1 - x2 + 11x3)\n",
    "\n",
    "@time status=solve(m2)\n",
    "println(\"=======================================================\")\n",
    "println(\"value x1: \", getvalue(x1))\n",
    "println(\"value x2: \", getvalue(x2))\n",
    "println(\"value x3: \", getvalue(x3))\n",
    "println(\"3. Maximum value (SCS Solver): \\$\", getobjectivevalue(m2))\n",
    "println(\"=======================================================\")\n"
   ]
  },
  {
   "cell_type": "markdown",
   "metadata": {},
   "source": [
    "# Speculation as to why results show ClpSolver to be fastest than other two\n",
    "From the results it seems that the ClpSolver gives accurate results (no floating point numbers) than other two solvers. One thing I can speculate is that ClpSolvers are mostly handling or support Linear Programming whereas other solvers are capable of solving other equations (other than Linear Programming). Also, is might be possible that language of implementation can make ClpSolver faster (C++) than other two which are written implemented in C programming language."
   ]
  },
  {
   "cell_type": "markdown",
   "metadata": {},
   "source": [
    "# Solution 2: Standard form with equality constraints.\n",
    "Rather than using the standard LP form we saw in class, some prefer using a form where all variables are nonnegative, all constraints are equality constraints, and the cost function is a minimization. So a general LP would look like:\n",
    "\n",
    "\\begin{equation*}\n",
    "minimize: c^Tx\n",
    "\\end{equation*}\n",
    "\\begin{equation*}\n",
    "subject to: Ax = b                 \n",
    "\\end{equation*}\n",
    "\\begin{equation*}\n",
    "x ≥ 0\n",
    "\\end{equation*}\n",
    "\n",
    "Consider the following LP:\n",
    "\n",
    "\\begin{equation*}\n",
    "maximize_{z1,z2,z3,z4}: 3z1 − z2\n",
    "\\end{equation*}\n",
    "\\begin{equation*}\n",
    "subject to: −z1 + 6z2 − z3 + z4 ≥ −3\n",
    "\\end{equation*}\n",
    "\\begin{equation*}\n",
    "7z2 + z4 = 5\n",
    "\\end{equation*}\n",
    "\\begin{equation*}\n",
    "z3 + z4 ≤ 2\n",
    "\\end{equation*}\n",
    "\\begin{equation*}\n",
    "−1 ≤ z2 ≤ 5, −1 ≤ z3 ≤ 5, −2 ≤ z4 ≤ 2\n",
    "\\end{equation*}"
   ]
  },
  {
   "cell_type": "markdown",
   "metadata": {},
   "source": [
    "<b>Solution 1a)</b> Transform the above LP into the equality-constrained standard form of (1). What are A, b, c, and x? Be sure to explain how the decision variables of your transformed LP relate to those of the original LP.\n",
    "\n",
    "<b>Step 1:</b> Converting the <u>maxmimization to minimization</u>: transform a maximization problem to a minimization problem by multiplying the objective function by -1. \n",
    "\n",
    "\\begin{equation*}\n",
    "maximize_{z1,z2,z3,z4}: 3z1 − z2\n",
    "\\end{equation*}\n",
    "<b>becomes</b>:\n",
    "\\begin{equation*}\n",
    "minimize_{z1,z2,z3,z4}: -3z1 + z2\n",
    "\\end{equation*}\n",
    "\n",
    "<b>Step 2:</b> Convert the inequalities to equalities as per the required problem input and add <u>slack variable</u>: \n",
    "<li>If the equation is of the type 'less than equal to' then we <b>add a positive slack variable (say +s1)</b></li> For instance the two inequalities from the input problem: \n",
    "\\begin{equation*}\n",
    "−z1 + 6z2 − z3 + z4 ≥ −3 \\\\\n",
    "7z2 + z4 = 5 \\\\\n",
    "z3 + z4 ≤ 2 \\\\\n",
    "\\end{equation*}\n",
    "\n",
    "<p>First converting this to 'less than eq' problem by multiplying it by -1 and then adding slack variable s1 to this equation. Similarly for the third equation - adding slack variable s2. Nothing is done for the second equation as its already in equality form.</p>\n",
    "<p>\n",
    "\\begin{equation*}\n",
    "z1 - 6z2 + z3 - z4 + s1 = 3 ........ (1) \\\\\n",
    "7z2 + z4 = 5 ..........(2)\\\\\n",
    "z3 + z4 + s2 = 2 .........(3)\\\\\n",
    "\\end{equation*}\n",
    "\n",
    "<li>If the equation is of the type 'greater than equal to' then we <b>add a negative slack variable (say -s1)</b></li>\n",
    "\n",
    "<b>Step 3:</b> Taking care of <u>free variables</u> in the equation. Here in the given problem we have z1 as free variable i.e. variable without any bounds. To obtain standard form, free variable will replaced by the difference of two non-negative variables. i.e. z1 will be replaced by (u - v) where u >= 0 and v >= 0.\n",
    "\n",
    "<b>Step 4:</b> Taking care of variables with <u>lower bounds</u> which are not zero. Substituting variables zi by xi + li (lower bound value). \n",
    "\\begin{equation*}\n",
    "−1 ≤ z2 ≤ 5, −1 ≤ z3 ≤ 5, −2 ≤ z4 ≤ 2\n",
    "\\end{equation*}\n",
    "\n",
    "Becomes:\n",
    "\\begin{equation*}\n",
    "z2 = x2 - 1 \\\\\n",
    "z3 = x3 - 1 \\\\\n",
    "z4 = x4 - 2 \\\\\n",
    "z2 <= 5 ......... (4)\\\\\n",
    "z3 <= 5 ......... (5)\\\\\n",
    "z4 <= 2 ......... (6)\\\\\n",
    "\\end{equation*}\n",
    "\n",
    "<b>Step 5:</b> Adding slack variables for the variables which are <u>upper bounded</u>, substituting free variables and other variables as per previous steps and getting the final equations (from 1,2,3,4,5,6):\n",
    "\\begin{equation*}\n",
    "minimize: -3(u-v) + (x2-1)\n",
    "\\end{equation*}\n",
    "\\begin{equation*}\n",
    "subject to: u - v - 6x2 + x3 - x4 + s1 = -4\n",
    "\\end{equation*}\n",
    "\\begin{equation*}\n",
    "7x2 + x4 = 14\n",
    "\\end{equation*}\n",
    "\\begin{equation*}\n",
    "x3 + x4 + s2 = 5\n",
    "\\end{equation*}\n",
    "\\begin{equation*}\n",
    "x2 + s3 = 6\n",
    "\\end{equation*}\n",
    "\\begin{equation*}\n",
    "x3 + s4 = 6\n",
    "\\end{equation*}\n",
    "\\begin{equation*}\n",
    "x4 + s5 = 4\n",
    "\\end{equation*}\n",
    "\\begin{equation*}\n",
    "u>=0, v>=0, x2>=0, x3>=0, x4>=0, s1>=0, s2>=0, s3>=0, s4>=0, s5>=0\n",
    "\\end{equation*}\n",
    "\n",
    "<br>\n",
    "A = \n",
    "$\\left[ \\begin{array}{cccc}\n",
    "u & v & x2 & x3 & x4 & s1 & s2 & s3 & s4 & s5\\\\\n",
    "1 & -1 & -6 & 1 & -1 & 1 & 0 & 0 & 0 & 0\\\\\n",
    "0 & 0  & 7  & 0 & 1  & 0 & 0 & 0 & 0 & 0\\\\\n",
    "0 & 0  & 0  & 1 & 1  & 0 & 1 & 0 & 0 & 0\\\\\n",
    "0 & 0  & 1  & 0 & 0  & 0 & 0 & 1 & 0 & 0\\\\\n",
    "0 & 0  & 0  & 1 & 0  & 0 & 0 & 0 & 1 & 0\\\\\n",
    "0 & 0  & 0  & 0 & 1  & 0 & 0 & 0 & 0 & 1\\\\ \\end{array} \\right]$    b = \n",
    "$\\left[ \\begin{array}{cccc}\n",
    "-4\\\\\n",
    "14\\\\\n",
    "5\\\\\n",
    "6\\\\\n",
    "6\\\\\n",
    "4\\\\ \\end{array} \\right]$     c = \n",
    "$\\left[ \\begin{array}{cccc}\n",
    "-3\\\\\n",
    "3\\\\\n",
    "1\\\\\n",
    "0\\\\\n",
    "0\\\\\n",
    "0\\\\\n",
    "0\\\\\n",
    "0\\\\\n",
    "0\\\\\n",
    "0\\\\ \\end{array} \\right]$"
   ]
  },
  {
   "cell_type": "code",
   "execution_count": 6,
   "metadata": {
    "collapsed": false
   },
   "outputs": [
    {
     "name": "stdout",
     "output_type": "stream",
     "text": [
      "---- Transformed Version of Linear Program ----\n",
      "value z1: 8.571428571428571\n",
      "value z2: 0.4285714285714286\n",
      "value z3: -1.0\n",
      "value z4: 2.0\n",
      "Minimum Value: 25.28571428571429\n",
      "\n",
      "---- Normal Version of Linear Program ----\n",
      "value z1: 8.571428571428571\n",
      "value z2: 0.42857142857142855\n",
      "value z3: -1.0\n",
      "value z4: 2.0\n",
      "Minimum Value: 25.28571428571429\n",
      "\n"
     ]
    }
   ],
   "source": [
    "# Solution by converting it to standard form\n",
    "mod2 = Model()\n",
    "@variable(mod2, x2 >= 0)\n",
    "@variable(mod2, x3 >= 0)\n",
    "@variable(mod2, x4 >= 0)\n",
    "@variable(mod2, s1 >= 0)\n",
    "@variable(mod2, s2 >= 0)\n",
    "@variable(mod2, s3 >= 0)\n",
    "@variable(mod2, s4 >= 0)\n",
    "@variable(mod2, s5 >= 0)\n",
    "@variable(mod2, u >= 0)\n",
    "@variable(mod2, v >= 0)\n",
    "@constraint(mod2, (u-v-6x2+x3-x4+s1) == -4)\n",
    "@constraint(mod2, (7x2 + x4) == 14)\n",
    "@constraint(mod2, (x3 + x4 + s2) == 5)\n",
    "@constraint(mod2, (x2 + s3) == 6)\n",
    "@constraint(mod2, (x3 + s4) == 6)\n",
    "@constraint(mod2, (x4 + s5) == 4)\n",
    "\n",
    "@objective(mod2, Min, -3(u-v) + (x2-1))\n",
    "status = solve(mod2)\n",
    "println(\"---- Transformed Version of Linear Program ----\")\n",
    "println(\"value z1: \", getvalue(u)-getvalue(v))\n",
    "println(\"value z2: \", getvalue(x2)-1)\n",
    "println(\"value z3: \", getvalue(x3)-1)\n",
    "println(\"value z4: \", getvalue(x4)-2)\n",
    "println(\"Minimum Value: \", -getobjectivevalue(mod2))\n",
    "println()\n",
    "\n",
    "# Solution without converting it to standard form\n",
    "mod2 = Model()\n",
    "@variable(mod2, -1 <= z2 <= 5)\n",
    "@variable(mod2, -1 <= z3 <= 5)\n",
    "@variable(mod2, -2 <= z4 <= 2)\n",
    "@variable(mod2, z1 >= 0)\n",
    "@constraint(mod2, (-z1 + 6z2 -z3 + z4) >= -3)\n",
    "@constraint(mod2, (7z2 + z4) == 5)\n",
    "@constraint(mod2, (z3 + z4) <= 2)\n",
    "\n",
    "@objective(mod2, Min, -3z1 + z2)\n",
    "status = solve(mod2)\n",
    "println(\"---- Normal Version of Linear Program ----\")\n",
    "println(\"value z1: \", getvalue(z1))\n",
    "println(\"value z2: \", getvalue(z2))\n",
    "println(\"value z3: \", getvalue(z3))\n",
    "println(\"value z4: \", getvalue(z4))\n",
    "println(\"Minimum Value: \", -getobjectivevalue(mod2))\n",
    "println()"
   ]
  },
  {
   "cell_type": "raw",
   "metadata": {},
   "source": [
    "\\newpage"
   ]
  },
  {
   "cell_type": "markdown",
   "metadata": {},
   "source": [
    "# Solution 3: Crop Planning\n",
    "Farmer Jane owns 45 acres of land. She is going to plant each with wheator corn. Each acre planted with wheat yields $200 profit; each with corn yields $300 profit. The labor and fertilizer used for each acre are given in the table below. One hundred workers and 120 tons of fertilizer are available.\n",
    "\n",
    "| |Wheat | Corn\n",
    "|--------------|\n",
    "|Labor |3 workers |2 workers\n",
    "|Fertilizer |2 tons |4 tons\n",
    "\n",
    "Solution a) How should Jane plant her crops to maximize profit? Model and solve this problem using JuMP."
   ]
  },
  {
   "cell_type": "code",
   "execution_count": 8,
   "metadata": {
    "collapsed": false
   },
   "outputs": [
    {
     "name": "stdout",
     "output_type": "stream",
     "text": [
      "Jane's Wheat(w): 19.99999999999999\n",
      "Jane's Corn(c) : 20.000000000000007\n",
      "Jane's maximum profit $10000.0\n"
     ]
    }
   ],
   "source": [
    "# Solution a) Modeling the problem using JuMP to show how Jane should plant wheat and corn to get maximum profit\n",
    "\n",
    "mod3 = Model()\n",
    "\n",
    "# Variables (Wheat and Corn to be >= 0)\n",
    "@variable(mod3, w >= 0)\n",
    "@variable(mod3, c >= 0)\n",
    "\n",
    "# Jane owns 45 acres of land\n",
    "@constraint(mod3, w + c <= 45)\n",
    "\n",
    "# Given 100 workers and 120 tons of fertilizer\n",
    "@constraint(mod3, 3w + 2c <= 100)\n",
    "@constraint(mod3, 2w + 4c <= 120)\n",
    "\n",
    "# Objective - maximum profit\n",
    "@objective(mod3, Max, 200w + 300c)\n",
    "\n",
    "status = solve(mod3)\n",
    "println(\"Jane's Wheat(w): \", getvalue(w))\n",
    "println(\"Jane's Corn(c) : \", getvalue(c))\n",
    "println(\"Jane's maximum profit \\$\", getobjectivevalue(mod3))"
   ]
  },
  {
   "cell_type": "code",
   "execution_count": 2,
   "metadata": {
    "collapsed": false
   },
   "outputs": [
    {
     "name": "stderr",
     "output_type": "stream",
     "text": [
      "WARNING: Method definition f(Any) in module Main at In[1]:4 overwritten at In[2]:4.\n",
      "WARNING: Method definition g(Any) in module Main at In[1]:5 overwritten at In[2]:5.\n",
      "WARNING: Method definition h(Any) in module Main at In[1]:6 overwritten at In[2]:6.\n"
     ]
    },
    {
     "data": {
      "text/html": [
       "<img src=\"data:image/png;base64,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\" />"
      ]
     },
     "execution_count": 2,
     "metadata": {},
     "output_type": "execute_result"
    }
   ],
   "source": [
    "# Solution b)\n",
    "# Plotting the initial graph with all the three equations from the problem's solution above\n",
    "using Plots\n",
    "f(x) = 50 - (3/2)x\n",
    "g(x) = 30 - (1/2)x\n",
    "h(x) = 45 - x\n",
    "X = 0:33\n",
    "\n",
    "plot(X, f, fill = (0, 0.5, :auto))\n",
    "plot!(X, g, fill = (0, 0.5, :auto))\n",
    "plot!(X, h)"
   ]
  },
  {
   "cell_type": "code",
   "execution_count": 3,
   "metadata": {
    "collapsed": false
   },
   "outputs": [
    {
     "data": {
      "text/html": [
       "<img src=\"data:image/png;base64,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\" />"
      ]
     },
     "execution_count": 3,
     "metadata": {},
     "output_type": "execute_result"
    }
   ],
   "source": [
    "# Plotting the graph as to satisfy the problem given by maximizing Jane's profit. Since the line y <= 45-x has \n",
    "# a slope of -1. With same slope changing the equation y <= 45-x to get to the point where all the three lines intersect\n",
    "# and we have maximum profit.\n",
    "using Plots\n",
    "h2(x) = 40 - x\n",
    "X = 0:33\n",
    "plot(X, f, fill = (0, 0.5, :auto))\n",
    "plot!(X, g, fill = (0, 0.5, :auto))\n",
    "plot!(X, h2)"
   ]
  },
  {
   "cell_type": "raw",
   "metadata": {},
   "source": [
    "\\newpage"
   ]
  },
  {
   "cell_type": "markdown",
   "metadata": {},
   "source": [
    "# Solution 4: Alloy blending.\n",
    "The company Steelco has received an order for 500 tons of steel to be used in shipbuilding. The steel must have the following characteristics:\n",
    "\n",
    "|Chemical Element | Minimum Grade (%) | Maximum Grade (%)\n",
    "|------------------------------------------------------|\n",
    "|Carbon (C) | 2 | 3 |\n",
    "|Copper (Cu) | 0.4 | 0.6 |\n",
    "|Manganese (Mn) | 1.2 | 1.65 |\n",
    "\n",
    "The company has seven different raw materials in stock that may be used for the production of this steel. The following table lists the grades, available amounts and prices for all materials:\n",
    "\n",
    "|Raw Material |C% |Cu% |Mn% |Availability in tons |Cost in $/ton\n",
    "|---------------------------------------------------------------|\n",
    "|Iron alloy 1 |2.5|   |1.3|400 |200\n",
    "|Iron alloy 2 |3  |   |0.8|300 |250\n",
    "|Iron alloy 3 |   |0.3|   |600 |150\n",
    "|Copper 1     |   |90 |   |500 |220\n",
    "|Copper 2     |   |96 |4  |200 |240\n",
    "|Aluminum 1   |   |0.4|1.2|300 |200\n",
    "|Aluminum 2   |   |0.6|   |250 |165\n",
    "\n",
    "Notes:\n",
    "1. Let the raw materials be denoted as x1, x2, ... , x7 respectively.\n",
    "2. Given Cost_for_raw_material = [200, 250, 150, 220, 240, 200, 165]\n",
    "3. Availability of raw material is given as = [400, 300, 600, 500, 200, 300, 250]\n",
    "4. The composition that minimizes the cost will be calculated as: $$\\sum_{i=1}^7 Costi*xi$$\n",
    "   i.e. minimize 200x1 + 250x2 + 150x3 + 220x4 + 240x5 + 200x6 + 165x7\n",
    "5. For all element that belongs to the first table, we will have two equations 1) for minimum condition 2) for max conditions\n",
    "   i.e. 6 equations mentioned below as 2 - 7"
   ]
  },
  {
   "cell_type": "code",
   "execution_count": 77,
   "metadata": {
    "collapsed": false
   },
   "outputs": [
    {
     "name": "stdout",
     "output_type": "stream",
     "text": [
      "Iron Alloy1 400.0\n",
      "Iron Alloy2 0.0\n",
      "Iron Alloy3 39.77630199231043\n",
      "Copper1 0.0\n",
      "Copper2 2.761272282418735\n",
      "Aluminium1 57.46242572527083\n",
      "Aluminium2 0.0\n",
      "Minimum Cost $98121.63579168123\n"
     ]
    }
   ],
   "source": [
    "mod1 = Model()\n",
    "\n",
    "# Variables x1... x7 as per the given input table\n",
    "@variable(mod1, 0 <= x1 <= 400)\n",
    "@variable(mod1, 0 <= x2 <= 300)\n",
    "@variable(mod1, 0 <= x3 <= 600)\n",
    "@variable(mod1, 0 <= x4 <= 500)\n",
    "@variable(mod1, 0 <= x5 <= 200)\n",
    "@variable(mod1, 0 <= x6 <= 300)\n",
    "@variable(mod1, 0 <= x7 <= 250)\n",
    "\n",
    "# Believe that the composition of x1...x7 will give atleast 500 tonnes of steel\n",
    "@constraint(mod1, (x1 + x2 + x3 + x4 + x5 + x6 + x7) == 500) #...........(1)\n",
    "\n",
    "# Constraints for each chemical element\n",
    "@constraint(mod1, (2.5x1 + 3x2) >= 1000)  # .............................(2)\n",
    "@constraint(mod1, (2.5x1 + 3x2) <= 1500)  # .............................(3)\n",
    "\n",
    "@constraint(mod1, (0.3x3 + 90x4 + 96x5 + 0.4x6 + 0.6x7) >= 200) # .......(4)\n",
    "@constraint(mod1, (0.3x3 + 90x4 + 96x5 + 0.4x6 + 0.6x7) <= 300) # .......(5)\n",
    "\n",
    "@constraint(mod1, (1.3x1 + 0.8x2 + 4x5 + 1.2x6) >= 600) # ...............(6)\n",
    "@constraint(mod1, (1.3x1 + 0.8x2 + 4x5 + 1.2x6) <= 825) # ...............(7)\n",
    "\n",
    "@objective(mod1, Min, 200x1 + 250x2 + 150x3 + 220x4 + 240x5 + 200x6 + 165x7) # This is our objective\n",
    "\n",
    "status = solve(mod1)\n",
    "println(\"Iron Alloy1 \", getvalue(x1))\n",
    "println(\"Iron Alloy2 \", getvalue(x2))\n",
    "println(\"Iron Alloy3 \", getvalue(x3))\n",
    "println(\"Copper1 \", getvalue(x4))\n",
    "println(\"Copper2 \", getvalue(x5))\n",
    "println(\"Aluminium1 \", getvalue(x6))\n",
    "println(\"Aluminium2 \", getvalue(x7))\n",
    "println(\"Minimum Cost \\$\", getobjectivevalue(mod1))"
   ]
  }
 ],
 "metadata": {
  "kernelspec": {
   "display_name": "Julia 0.5.0",
   "language": "julia",
   "name": "julia-0.5"
  },
  "language_info": {
   "file_extension": ".jl",
   "mimetype": "application/julia",
   "name": "julia",
   "version": "0.5.0"
  }
 },
 "nbformat": 4,
 "nbformat_minor": 2
}
