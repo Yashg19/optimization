{
 "cells": [
  {
   "cell_type": "code",
   "execution_count": 1,
   "metadata": {
    "collapsed": true
   },
   "outputs": [],
   "source": [
    "using JuMP, Gurobi"
   ]
  },
  {
   "cell_type": "markdown",
   "metadata": {},
   "source": [
    "# Question 1: Thrift store\n",
    "How should you make change for 99 cents if the goal is to minimize the total weight of the coins used? The following table shows the weight of each type of coin. You may use any number of each type of coin.\n",
    "\n",
    "|Type of Coin |Penny | Nickel | Dime | Quarter\n",
    "|--------------|\n",
    "|Weights |2.500 |5.00 | 2.268 | 5.670"
   ]
  },
  {
   "cell_type": "code",
   "execution_count": 2,
   "metadata": {
    "collapsed": false
   },
   "outputs": [
    {
     "data": {
      "text/plain": [
       ":Optimal"
      ]
     },
     "execution_count": 2,
     "metadata": {},
     "output_type": "execute_result"
    }
   ],
   "source": [
    "m1 = Model(solver=GurobiSolver(OutputFlag=0))\n",
    "\n",
    "# Defining 4 variables (which are integer)\n",
    "@variable(m1, z[1:4]>=0, Int)\n",
    "\n",
    "# Total should be 99 cents so the sum of all type of coins should be 99 cents\n",
    "@constraint(m1, z[1] + 5z[2] + 10z[3] + 25z[4] == 99)\n",
    "\n",
    "# Objective function is to minimize the total weight of the coins used\n",
    "@objective(m1, Min, 2.5z[1] + 5z[2] + 2.268z[3] + 5.670z[4])\n",
    "\n",
    "solve(m1)"
   ]
  },
  {
   "cell_type": "code",
   "execution_count": 3,
   "metadata": {
    "collapsed": false
   },
   "outputs": [
    {
     "name": "stdout",
     "output_type": "stream",
     "text": [
      "4.0 Pennies\n",
      "0.0 Nickel\n",
      "7.0 Dimes\n",
      "1.0 Quarters\n",
      "Objective Value (Min weight): 31.546\n"
     ]
    }
   ],
   "source": [
    "zopt = getvalue(z)\n",
    "println(zopt[1], \" Pennies\")\n",
    "println(zopt[2], \" Nickel\")\n",
    "println(zopt[3], \" Dimes\" )\n",
    "println(zopt[4], \" Quarters\" )\n",
    "\n",
    "println(\"Objective Value (Min weight): \", getobjectivevalue(m1))"
   ]
  },
  {
   "cell_type": "markdown",
   "metadata": {},
   "source": [
    "# Question 2: Comquat Computers.\n",
    "Comquat owns four production plants at which personal computers are produced. Comquat can sell up to 20,000 computers per year at a price of $3,500 per computer. For each plant the production capacity, cost per computer, and fixed cost of operating the plant for a year are given below. Determine how Comquat can maximize its yearly profit from computer production.\n",
    "\n",
    "|Plant |Production capacity | Plant fixed cost (Million dollars) | Cost per computer (in dollars)\n",
    "|--------------|\n",
    "|1 |10,000 |9 | 1,000\n",
    "|2 |8,000 |5 | 1,700\n",
    "|3 |9,000 |3 | 2,300\n",
    "|4 |6,000 |1 | 2,900\n"
   ]
  },
  {
   "cell_type": "code",
   "execution_count": 4,
   "metadata": {
    "collapsed": false
   },
   "outputs": [
    {
     "name": "stdout",
     "output_type": "stream",
     "text": [
      "10000.0 Plant1\n",
      "8000.0 Plant2\n",
      "0 Plant3\n",
      "2000.0 Plant4\n",
      "\n",
      "$25600.0 of net profit (in thousand dollars)\n"
     ]
    }
   ],
   "source": [
    "m2 = Model(solver=GurobiSolver(OutputFlag=0))\n",
    "\n",
    "# Four variables to get each plants production\n",
    "@variable(m2, x[1:4] >= 0, Int)\n",
    "# Binary variables to know if zi plant did any production or not\n",
    "@variable(m2, z[1:4], Bin)\n",
    "\n",
    "# Constraints as per given input (each plant cannot produce more than the production capacity given)\n",
    "@constraint(m2, x[1] <= 10000)\n",
    "@constraint(m2, x[2] <= 8000)\n",
    "@constraint(m2, x[3] <= 9000)\n",
    "@constraint(m2, x[4] <= 6000)\n",
    "\n",
    "# Total production from each plant is upto 20,000\n",
    "@constraint(m2, x[1] + x[2] + x[3] + x[4] <= 20000)  # upto 20,000 computers per year produced in total by 4 plants\n",
    "\n",
    "# Setting M to 30,000 (in class i remember discussing that M should be small)\n",
    "@constraint(m2, x .<= 30000*z)                  # if x>0 then z=1\n",
    "\n",
    "# Objective function is to Maximize yearly profit. Given that each computer costs $3500 then the profit for each plant \n",
    "# will be ($3500 - Cost per computers for that plant). Hence ($3.5 - $1.0 (in thousand $) for Plant 1 and so on...)\n",
    "# Subtracting the fixed cost of plant is necessary to calculate max. profit as if Plant x has done some production then\n",
    "# it needs to pay the plant fixed cost.\n",
    "\n",
    "@objective(m2, Max, 2.5x[1] + 1.8x[2] + 1.2x[3] + 0.6x[4] - 9000z[1] - 5000z[2] - 3000z[3] - 1000z[4])\n",
    "\n",
    "solve(m2)\n",
    "\n",
    "xopt = getvalue(x)\n",
    "println(xopt[1], \" Plant1\")\n",
    "println(xopt[2], \" Plant2\")\n",
    "println(Int64(xopt[3]), \" Plant3\" )\n",
    "println(xopt[4], \" Plant4\" )\n",
    "println()\n",
    "println(\"\\$\", getobjectivevalue(m2), \" of net profit (in thousand dollars)\")"
   ]
  },
  {
   "cell_type": "markdown",
   "metadata": {
    "collapsed": true
   },
   "source": [
    "# Question 3:  ABC Investments. \n",
    "ABC Inc. is considering several investment options. Each option has a minimum investment required as well as a maximum investment allowed. These restrictions, along with the expected return are summarized in the following table (figures are in millions of dollars):"
   ]
  },
  {
   "cell_type": "code",
   "execution_count": 8,
   "metadata": {
    "collapsed": false
   },
   "outputs": [
    {
     "name": "stdout",
     "output_type": "stream",
     "text": [
      "0.0 Investment in Option 1 (in Million dollars)\n",
      "0.0 Investment in Option 2 (in Million dollars)\n",
      "35.0 Investment in Option 3 (in Million dollars)\n",
      "5.0 Investment in Option 4 (in Million dollars)\n",
      "22.5 Investment in Option 5 (in Million dollars)\n",
      "17.5 Investment in Option 6 (in Million dollars)\n",
      "\n",
      "$13.5 of net profit (in Million dollars)\n"
     ]
    }
   ],
   "source": [
    "m3 = Model(solver=GurobiSolver(OutputFlag=0))\n",
    "\n",
    "# Variables - how much to invest in each option 1 - 6.\n",
    "@variable(m3, x[1:6] >= 0)\n",
    "# 6 Binary variables to know if any amount was invested in option i where i (1-6)\n",
    "@variable(m3, z[1:6], Bin)\n",
    "\n",
    "# Adding min and max constraints for all the options\n",
    "@constraint(m3, x[1] >= 3z[1])\n",
    "@constraint(m3, x[1] <= 27z[1])\n",
    "\n",
    "@constraint(m3, x[2] >= 2z[2])\n",
    "@constraint(m3, x[2] <= 12z[2])\n",
    "\n",
    "@constraint(m3, x[3] >= 9z[3])\n",
    "@constraint(m3, x[3] <= 35z[3])\n",
    "\n",
    "@constraint(m3, x[4] >= 5z[4])\n",
    "@constraint(m3, x[4] <= 15z[4])\n",
    "\n",
    "@constraint(m3, x[5] >= 12z[5])\n",
    "@constraint(m3, x[5] <= 46z[5])\n",
    "\n",
    "@constraint(m3, x[6] >= 4z[6])\n",
    "@constraint(m3, x[6] <= 18z[6])\n",
    "\n",
    "# Total investment should not be more than 80\n",
    "@constraint(m3, x[1] + x[2] + x[3] + x[4] + x[5] + x[6] <= 80)  # 80 million $ to invest\n",
    "\n",
    "# Because of the high-risk nature of Option 5, company policy requires that the total amount invested\n",
    "# in Option 5 be no more that the combined amount invested in Options 2, 4 and 6\n",
    "@constraint(m3, x[5] <= x[2] + x[4] + x[6])\n",
    "\n",
    "# In addition, if an investment is made in Option 3, it is required that at least a minimum investment be made in\n",
    "# Option 6. \n",
    "@constraint(m3, z[3] <= 4z[6])\n",
    "\n",
    "@constraint(m3, x .<= 100*z)\n",
    "\n",
    "# wants to maximize its total expected return on investment.\n",
    "@objective(m3, Max, 0.13x[1] + 0.09x[2] + 0.17x[3] + 0.10x[4] + 0.22x[5] + 0.12x[6])\n",
    "\n",
    "solve(m3)\n",
    "\n",
    "xopt = getvalue(x)\n",
    "println(xopt[1], \" Investment in Option 1 (in Million dollars)\")\n",
    "println(xopt[2], \" Investment in Option 2 (in Million dollars)\")\n",
    "println(xopt[3], \" Investment in Option 3 (in Million dollars)\" )\n",
    "println(xopt[4], \" Investment in Option 4 (in Million dollars)\" )\n",
    "println(xopt[5], \" Investment in Option 5 (in Million dollars)\" )\n",
    "println(xopt[6], \" Investment in Option 6 (in Million dollars)\" )\n",
    "println()\n",
    "println(\"\\$\", getobjectivevalue(m3), \" of net profit (in Million dollars)\")"
   ]
  },
  {
   "cell_type": "markdown",
   "metadata": {},
   "source": [
    "# Question 4:  Lights Out.\n",
    "In Tiger Electronic’s handheld solitaire game Lights Out, the player strives to turn out all 25 lights that make up a 5 × 5 grid of cells. On each turn, the player is allowed to click on any one cell. Clicking on a cell activates a switch that causes the states of the cell and its (edge) neighbors to change from on to off, or from off to on. Corner cells are considered to have 2 neighbors, edge cells to have three, and interior cells to have four. Find a way to turn out all the lights in as few turns as possible (starting from the state where all lights are on)."
   ]
  },
  {
   "cell_type": "code",
   "execution_count": 6,
   "metadata": {
    "collapsed": false
   },
   "outputs": [
    {
     "data": {
      "text/plain": [
       ":Optimal"
      ]
     },
     "execution_count": 6,
     "metadata": {},
     "output_type": "execute_result"
    }
   ],
   "source": [
    "m4 = Model(solver=GurobiSolver(OutputFlag=0))\n",
    "\n",
    "@variable(m4, z[1:5,1:5], Bin)  # Binary variable for each cell\n",
    "@variable(m4, t[1:5,1:5], Int)  # auxiliary variable\n",
    "\n",
    "# Adding constraints by going through each cell - The number of 1's by summing up should be an odd number and so \n",
    "# the sum should be equal to 2*any integer + 1. We know that 2*any number + 1 will always be odd\n",
    "\n",
    "# Corner cells are considered to have 2 neighbors - (1, 1) (5, 1) (1, 5) (5, 5) are the four corners\n",
    "# edge cells to have three (when i == 1 & 5 or j == 1 and j == 5)\n",
    "# interior cells to have four \n",
    "\n",
    "for i in 1:5\n",
    "    for j in 1:5\n",
    "        if i == 1\n",
    "            if j == 1\n",
    "                @constraint(m4, z[i,j] + z[i+1,j] + z[i,j] + z[i,j+1] - z[i,j] == (2t[i,j] + 1))\n",
    "            elseif j == 5\n",
    "                @constraint(m4, z[i,j] + z[i+1,j] + z[i,j] + z[i,j-1] - z[i,j] == (2t[i,j] + 1))\n",
    "            else\n",
    "                @constraint(m4, z[i,j] + z[i+1,j] + z[i,j] + z[i,j+1] + z[i,j-1] - z[i,j] == (2t[i,j] + 1))\n",
    "            end\n",
    "        elseif i == 5\n",
    "            if j == 1\n",
    "                @constraint(m4, z[i,j] + z[i-1,j] + z[i,j] + z[i,j+1] - z[i,j] == (2t[i,j] + 1))\n",
    "            elseif j == 5\n",
    "                @constraint(m4, z[i,j] + z[i-1,j] + z[i,j] + z[i,j-1] - z[i,j] == (2t[i,j] + 1))\n",
    "            else\n",
    "                @constraint(m4, z[i,j] + z[i-1,j] + z[i,j] + z[i,j+1] + z[i,j-1] - z[i,j] == (2t[i,j] + 1))\n",
    "            end\n",
    "        elseif j == 1\n",
    "            @constraint(m4, z[i,j] + z[i-1,j] + z[i+1,j] + z[i,j] + z[i,j+1] - z[i,j] == (2t[i,j] + 1))\n",
    "        elseif j == 5\n",
    "            @constraint(m4, z[i,j] + z[i-1,j] + z[i+1,j] + z[i,j] + z[i,j-1] - z[i,j] == (2t[i,j] + 1))\n",
    "        else\n",
    "            @constraint(m4, z[i,j] + z[i-1,j] + z[i+1,j] + z[i,j] + z[i,j-1] + z[i,j+1] - z[i,j] == (2t[i,j] + 1))\n",
    "        end\n",
    "    end\n",
    "end\n",
    "\n",
    "# Objective function is to minimize the sum\n",
    "@objective(m4, Min, sum(z[i,j] for i in 1:5, j in 1:5))\n",
    "            \n",
    "solve(m4)"
   ]
  },
  {
   "cell_type": "code",
   "execution_count": 7,
   "metadata": {
    "collapsed": false
   },
   "outputs": [
    {
     "name": "stdout",
     "output_type": "stream",
     "text": [
      "1 1 0 0 0 \n",
      "1 1 0 1 1 \n",
      "0 0 1 1 1 \n",
      "0 1 1 1 0 \n",
      "0 1 1 0 1 \n"
     ]
    }
   ],
   "source": [
    "for i in 1:5\n",
    "    for j in 1:5\n",
    "        print(Int64(getvalue(z[i,j])), \" \")\n",
    "    end\n",
    "    print(\"\\n\")\n",
    "end"
   ]
  },
  {
   "cell_type": "code",
   "execution_count": 9,
   "metadata": {
    "collapsed": false
   },
   "outputs": [
    {
     "name": "stdout",
     "output_type": "stream",
     "text": [
      "Objective Value: 15.0\n"
     ]
    }
   ],
   "source": [
    "println(\"Objective Value: \", getobjectivevalue(m4))"
   ]
  },
  {
   "cell_type": "code",
   "execution_count": null,
   "metadata": {
    "collapsed": true
   },
   "outputs": [],
   "source": []
  }
 ],
 "metadata": {
  "kernelspec": {
   "display_name": "Julia 0.5.0",
   "language": "julia",
   "name": "julia-0.5"
  },
  "language_info": {
   "file_extension": ".jl",
   "mimetype": "application/julia",
   "name": "julia",
   "version": "0.5.0"
  }
 },
 "nbformat": 4,
 "nbformat_minor": 2
}
